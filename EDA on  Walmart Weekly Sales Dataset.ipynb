{
 "cells": [
  {
   "cell_type": "markdown",
   "id": "ae9d6541",
   "metadata": {
    "id": "ae9d6541"
   },
   "source": [
    "# **Exploratory Data Analysis and Feature Engineering on Walmart Weekly Sales Dataset**  \n",
    "![](https://i.imgur.com/qwvOeHo.jpg)\n",
    "\n"
   ]
  },
  {
   "cell_type": "markdown",
   "id": "6f207bfd",
   "metadata": {
    "id": "6f207bfd"
   },
   "source": [
    "Walmart is an American Retail, Wholesale and E-commerce business. Sam Walton founded Walmart in 1962 in Rogers, Arkansas. His goal was to help people \"Save Money and Live Better\" which continues to be Walmart's guiding mission with \"Every Day Low Prices(EDLC)\" and great service.\n",
    "- Number 1 ranked [Fortune 500](https://fortune.com/fortune500/) company with [total revenue](https://s2.q4cdn.com/056532643/files/doc_financials/2021/ar/WMT_2021_AnnualReport.pdf) of $559 billion as of Jan 31 2021.\n",
    "- Publicly listed company, 'WMT' on the New York Stock Exchange(NYSE)\n",
    "- Each week 220 million customers visit 10,500 stores and clubs under 48 banners in 24 countries and eCommerce websites\n",
    "- [Largest](https://www.statista.com/statistics/264671/top-50-companies-based-on-number-of-employees/) private employer in the world with more than 2.3 million people employed around the world\n",
    "\n",
    "\n",
    "Revenue and operations of the company are categorised into three key business segments - Walmart US, Walmart International and Sam's Club.\n",
    "\n",
    "They operate in three store types or store formats as below.\n",
    "- Supercenters (general merchandise and grocery, Average store size 178,000 square feet)\n",
    "- Discount stores (general merchandise and limited grocery, Average size 106,000 square feet)\n",
    "- Neighbourhood stores (grocery, Average size 42, 000 square feet)\n",
    "\n",
    "\n"
   ]
  },
  {
   "cell_type": "markdown",
   "id": "7f05adcb",
   "metadata": {
    "id": "7f05adcb"
   },
   "source": [
    "In this notebook, I will explore Walmart Dataset by doing the Exploratory Data Analysis and Feature Engineering.  I will use **Pandas**, **Numpy**, **Matplotlib**, **Seaborn** and **Plotly** to perform exploratory data analysis and gather insights information of dataset. I will do the following\n",
    "\n",
    "- Install and Import libraries\n",
    "- Explore the dataset and merge different files as required\n",
    "- EDA - exploratory data analysis\n",
    "- Feature Engineering\n",
    "- Data preparation - Train Val Split, Encoding, Imputing and Scaling\n",
    "- Select input features\n",
    "- Define evaluation metrics\n",
    "- Define baseline model\n"
   ]
  },
  {
   "cell_type": "markdown",
   "id": "e8ad222e",
   "metadata": {
    "id": "e8ad222e"
   },
   "source": [
    "## Install and import libraries"
   ]
  },
  {
   "cell_type": "code",
   "execution_count": null,
   "id": "28242436",
   "metadata": {
    "id": "28242436"
   },
   "outputs": [],
   "source": [
    "#!pip install pandas numpy sklearn opendatasets seaborn matplotlib plotly --upgrade --quiet"
   ]
  },
  {
   "cell_type": "code",
   "execution_count": null,
   "id": "r7IVlg8GEvaS",
   "metadata": {
    "executionInfo": {
     "elapsed": 9006,
     "status": "ok",
     "timestamp": 1705975686608,
     "user": {
      "displayName": "ASAD AYUB",
      "userId": "01156840666497798230"
     },
     "user_tz": -300
    },
    "id": "r7IVlg8GEvaS"
   },
   "outputs": [],
   "source": [
    "!pip install opendatasets --upgrade --quiet"
   ]
  },
  {
   "cell_type": "code",
   "execution_count": null,
   "id": "5IhCCDdsExNF",
   "metadata": {
    "executionInfo": {
     "elapsed": 321,
     "status": "ok",
     "timestamp": 1705975701010,
     "user": {
      "displayName": "ASAD AYUB",
      "userId": "01156840666497798230"
     },
     "user_tz": -300
    },
    "id": "5IhCCDdsExNF"
   },
   "outputs": [],
   "source": [
    "import opendatasets as od"
   ]
  },
  {
   "cell_type": "code",
   "execution_count": null,
   "id": "e9d382d7",
   "metadata": {
    "executionInfo": {
     "elapsed": 2641,
     "status": "ok",
     "timestamp": 1705975473047,
     "user": {
      "displayName": "ASAD AYUB",
      "userId": "01156840666497798230"
     },
     "user_tz": -300
    },
    "id": "e9d382d7"
   },
   "outputs": [],
   "source": [
    "# OS and Data libraries\n",
    "import os\n",
    "from zipfile import ZipFile\n",
    "\n",
    "#Data analysis libraries\n",
    "import numpy as np\n",
    "import pandas as pd\n",
    "\n",
    "#Visualisation libraries\n",
    "import matplotlib\n",
    "import matplotlib.pyplot as plt\n",
    "import seaborn as sns\n",
    "import plotly.express as px\n",
    "\n",
    "#date formatters\n",
    "import matplotlib.dates as mdates\n",
    "from matplotlib.dates import DateFormatter\n",
    "\n",
    "#Jupyter notebook visualisation font and figure display parameters\n",
    "%matplotlib inline\n",
    "\n",
    "sns.set_style('ticks')\n",
    "matplotlib.rcParams['font.size'] = 14\n",
    "matplotlib.rcParams['figure.figsize'] = (10, 6)\n",
    "matplotlib.rcParams['figure.facecolor'] = '#00000000'"
   ]
  },
  {
   "cell_type": "markdown",
   "id": "379eea92",
   "metadata": {
    "id": "379eea92"
   },
   "source": [
    "## Exploring the dataset"
   ]
  },
  {
   "cell_type": "markdown",
   "id": "8285b3e7",
   "metadata": {
    "id": "8285b3e7"
   },
   "source": [
    "### Download and extract data from zip files  "
   ]
  },
  {
   "cell_type": "code",
   "execution_count": null,
   "id": "z-oZBzAgEcIg",
   "metadata": {
    "executionInfo": {
     "elapsed": 342,
     "status": "ok",
     "timestamp": 1705982926158,
     "user": {
      "displayName": "ASAD AYUB",
      "userId": "01156840666497798230"
     },
     "user_tz": -300
    },
    "id": "z-oZBzAgEcIg"
   },
   "outputs": [],
   "source": [
    "kaggle_url = \"https://www.kaggle.com/c/walmart-recruiting-store-sales-forecasting/data\""
   ]
  },
  {
   "cell_type": "code",
   "execution_count": null,
   "id": "gEe3n3s_EkAb",
   "metadata": {
    "colab": {
     "base_uri": "https://localhost:8080/"
    },
    "executionInfo": {
     "elapsed": 337,
     "status": "ok",
     "timestamp": 1705982929581,
     "user": {
      "displayName": "ASAD AYUB",
      "userId": "01156840666497798230"
     },
     "user_tz": -300
    },
    "id": "gEe3n3s_EkAb",
    "outputId": "03721637-69ca-447c-8417-1791c2b5e2d6"
   },
   "outputs": [],
   "source": [
    "od.download(kaggle_url)"
   ]
  },
  {
   "cell_type": "code",
   "execution_count": null,
   "id": "RHIKM73xFKWz",
   "metadata": {
    "colab": {
     "base_uri": "https://localhost:8080/"
    },
    "executionInfo": {
     "elapsed": 312,
     "status": "ok",
     "timestamp": 1705982936225,
     "user": {
      "displayName": "ASAD AYUB",
      "userId": "01156840666497798230"
     },
     "user_tz": -300
    },
    "id": "RHIKM73xFKWz",
    "outputId": "00cf75e3-d6fd-46de-849c-d32f03225cf7"
   },
   "outputs": [],
   "source": [
    "os.listdir(\"walmart-recruiting-store-sales-forecasting\")"
   ]
  },
  {
   "cell_type": "code",
   "execution_count": null,
   "id": "d4putpcgFdWO",
   "metadata": {
    "executionInfo": {
     "elapsed": 324,
     "status": "ok",
     "timestamp": 1705982940112,
     "user": {
      "displayName": "ASAD AYUB",
      "userId": "01156840666497798230"
     },
     "user_tz": -300
    },
    "id": "d4putpcgFdWO"
   },
   "outputs": [],
   "source": [
    "# Helper function to unzip many \".zip\" files in a directory\n",
    "\n",
    "from zipfile import ZipFile\n",
    "\n",
    "def unzip_files(path):\n",
    "\n",
    "    # Get list of files in the directory\n",
    "    files = os.listdir(path)\n",
    "\n",
    "    for file in files:                                   #For each file in the directory\n",
    "\n",
    "        if file.endswith(\".zip\"):                        # if it is a \".zip\" file\n",
    "            file_path = path+\"/\"+file                    # get location of the file\n",
    "\n",
    "            with ZipFile(file_path,\"r\") as zip_file:     #Open the \".zip\" file in read mode\n",
    "                zip_file.extractall(path)                #extract all files in \".zip\" in the location\n",
    "\n",
    "    return"
   ]
  },
  {
   "cell_type": "code",
   "execution_count": null,
   "id": "BfTCxvBcFYdz",
   "metadata": {
    "colab": {
     "base_uri": "https://localhost:8080/"
    },
    "executionInfo": {
     "elapsed": 588,
     "status": "ok",
     "timestamp": 1705982943935,
     "user": {
      "displayName": "ASAD AYUB",
      "userId": "01156840666497798230"
     },
     "user_tz": -300
    },
    "id": "BfTCxvBcFYdz",
    "outputId": "f1300967-1845-4b31-d5bf-6eb9b9f60c46"
   },
   "outputs": [],
   "source": [
    "dir_path = \"./walmart-recruiting-store-sales-forecasting\"\n",
    "\n",
    "#unzip all \".zip\" files\n",
    "unzip_files(dir_path)\n",
    "\n",
    "os.listdir(\"walmart-recruiting-store-sales-forecasting\")"
   ]
  },
  {
   "cell_type": "code",
   "execution_count": null,
   "id": "HI82ahyzFgHO",
   "metadata": {
    "colab": {
     "base_uri": "https://localhost:8080/"
    },
    "executionInfo": {
     "elapsed": 310,
     "status": "ok",
     "timestamp": 1705975891877,
     "user": {
      "displayName": "ASAD AYUB",
      "userId": "01156840666497798230"
     },
     "user_tz": -300
    },
    "id": "HI82ahyzFgHO",
    "outputId": "456d7134-b3dd-41f3-ccab-7ac9120d83e5"
   },
   "outputs": [],
   "source": [
    "import glob\n",
    "\n",
    "glob.glob(dir_path+\"/\"+\"*.csv\")"
   ]
  },
  {
   "cell_type": "code",
   "execution_count": null,
   "id": "09e602fa",
   "metadata": {
    "executionInfo": {
     "elapsed": 429,
     "status": "ok",
     "timestamp": 1705982950619,
     "user": {
      "displayName": "ASAD AYUB",
      "userId": "01156840666497798230"
     },
     "user_tz": -300
    },
    "id": "09e602fa"
   },
   "outputs": [],
   "source": [
    "train_df = pd.read_csv('./walmart-recruiting-store-sales-forecasting/train.csv')\n",
    "test_df = pd.read_csv('./walmart-recruiting-store-sales-forecasting/test.csv')\n",
    "stores_df = pd.read_csv('./walmart-recruiting-store-sales-forecasting/stores.csv')\n",
    "features_df = pd.read_csv('./walmart-recruiting-store-sales-forecasting/features.csv')\n",
    "submission_df = pd.read_csv('./walmart-recruiting-store-sales-forecasting/sampleSubmission.csv')\n"
   ]
  },
  {
   "cell_type": "markdown",
   "id": "720fb838",
   "metadata": {
    "id": "720fb838"
   },
   "source": [
    "### Explore data in indivdual files"
   ]
  },
  {
   "cell_type": "code",
   "execution_count": null,
   "id": "0692f183",
   "metadata": {
    "colab": {
     "base_uri": "https://localhost:8080/"
    },
    "executionInfo": {
     "elapsed": 335,
     "status": "ok",
     "timestamp": 1705982959248,
     "user": {
      "displayName": "ASAD AYUB",
      "userId": "01156840666497798230"
     },
     "user_tz": -300
    },
    "id": "0692f183",
    "outputId": "bf604ffb-ebf3-433c-bc5d-4ec48d61c7fa"
   },
   "outputs": [],
   "source": [
    "train_df.info()"
   ]
  },
  {
   "cell_type": "code",
   "execution_count": null,
   "id": "0b3991bc",
   "metadata": {
    "colab": {
     "base_uri": "https://localhost:8080/",
     "height": 143
    },
    "executionInfo": {
     "elapsed": 359,
     "status": "ok",
     "timestamp": 1705975928262,
     "user": {
      "displayName": "ASAD AYUB",
      "userId": "01156840666497798230"
     },
     "user_tz": -300
    },
    "id": "0b3991bc",
    "outputId": "25641ec2-3e67-4ecf-bca3-477a59cb9eb6"
   },
   "outputs": [],
   "source": [
    "train_df.describe().transpose()"
   ]
  },
  {
   "cell_type": "code",
   "execution_count": null,
   "id": "3e9e8773",
   "metadata": {
    "colab": {
     "base_uri": "https://localhost:8080/",
     "height": 206
    },
    "executionInfo": {
     "elapsed": 1488,
     "status": "ok",
     "timestamp": 1705975955632,
     "user": {
      "displayName": "ASAD AYUB",
      "userId": "01156840666497798230"
     },
     "user_tz": -300
    },
    "id": "3e9e8773",
    "outputId": "6c91366a-70c4-461e-ba39-2a91bf38833d"
   },
   "outputs": [],
   "source": [
    "train_df.astype('object').describe().transpose()"
   ]
  },
  {
   "cell_type": "code",
   "execution_count": null,
   "id": "88ee0170",
   "metadata": {
    "colab": {
     "base_uri": "https://localhost:8080/"
    },
    "executionInfo": {
     "elapsed": 313,
     "status": "ok",
     "timestamp": 1705975996941,
     "user": {
      "displayName": "ASAD AYUB",
      "userId": "01156840666497798230"
     },
     "user_tz": -300
    },
    "id": "88ee0170",
    "outputId": "2d16da20-3a09-4ce6-cdd6-6498d71e5547"
   },
   "outputs": [],
   "source": [
    "train_df.isna().sum()"
   ]
  },
  {
   "cell_type": "markdown",
   "id": "70f055de",
   "metadata": {
    "id": "70f055de"
   },
   "source": [
    "**Train.csv**\n",
    "- `Store`: Store number from 1 to 45 doesnt indicate any ranking.\n",
    "- `Dept`: Numbered 1 - 99. There are 81 departments in this dataset. So some stores have much fewer than 81 departments. Stores may have started some departments later\n",
    "- `Date`: Date corresponding to Thursday of each week (So a week is Friday - Thursday)\n",
    "- `IsHoliday`: A boolean indicating whether it is a store holiday or not\n",
    "- `Weekly_Sales`: Sales for the week reported on Thursdays of each week.\n",
    "- The complete history of 143 weeks is therefore not available for all departments\n",
    "- No null values in this dataset\n"
   ]
  },
  {
   "cell_type": "code",
   "execution_count": null,
   "id": "5cf66b02",
   "metadata": {
    "colab": {
     "base_uri": "https://localhost:8080/"
    },
    "executionInfo": {
     "elapsed": 315,
     "status": "ok",
     "timestamp": 1705976055109,
     "user": {
      "displayName": "ASAD AYUB",
      "userId": "01156840666497798230"
     },
     "user_tz": -300
    },
    "id": "5cf66b02",
    "outputId": "84243647-9602-4428-a3df-a102ac48f3ef"
   },
   "outputs": [],
   "source": [
    "test_df.info()"
   ]
  },
  {
   "cell_type": "code",
   "execution_count": null,
   "id": "bb164547",
   "metadata": {
    "colab": {
     "base_uri": "https://localhost:8080/",
     "height": 112
    },
    "executionInfo": {
     "elapsed": 335,
     "status": "ok",
     "timestamp": 1705976060509,
     "user": {
      "displayName": "ASAD AYUB",
      "userId": "01156840666497798230"
     },
     "user_tz": -300
    },
    "id": "bb164547",
    "outputId": "88c336d1-7fe8-4d9a-a92c-d3ac03bbdcc4"
   },
   "outputs": [],
   "source": [
    "test_df.describe().transpose()"
   ]
  },
  {
   "cell_type": "code",
   "execution_count": null,
   "id": "44daba7d",
   "metadata": {
    "colab": {
     "base_uri": "https://localhost:8080/",
     "height": 175
    },
    "executionInfo": {
     "elapsed": 342,
     "status": "ok",
     "timestamp": 1705976064782,
     "user": {
      "displayName": "ASAD AYUB",
      "userId": "01156840666497798230"
     },
     "user_tz": -300
    },
    "id": "44daba7d",
    "outputId": "14e15273-c2d0-414e-814b-1f737f69bbea"
   },
   "outputs": [],
   "source": [
    "test_df.astype('object').describe().transpose()"
   ]
  },
  {
   "cell_type": "code",
   "execution_count": null,
   "id": "da0ab6a9",
   "metadata": {
    "colab": {
     "base_uri": "https://localhost:8080/"
    },
    "executionInfo": {
     "elapsed": 3,
     "status": "ok",
     "timestamp": 1705976099970,
     "user": {
      "displayName": "ASAD AYUB",
      "userId": "01156840666497798230"
     },
     "user_tz": -300
    },
    "id": "da0ab6a9",
    "outputId": "8396e9ef-4233-446e-a573-e5c21fa2c012"
   },
   "outputs": [],
   "source": [
    "test_df.isna().sum()"
   ]
  },
  {
   "cell_type": "markdown",
   "id": "185395cc",
   "metadata": {
    "id": "185395cc"
   },
   "source": [
    "**Test.csv**\n",
    "- `Store`: Store number from 1 to 45 doesnt indicate any ranking.\n",
    "- `Dept`: Numbered 1 - 99. 81 departments in this dataset. So some stores have much fewer than 81 departments. Stores may have started some departments later\n",
    "- `Date`: Date corresponding to Thursday of each week (So a week is Friday - Thursday)\n",
    "- `IsHoliday`: A boolean indicating whether it is a store holiday or not\n",
    "- 39 forecast weeks\n",
    "- No null values in this dataset"
   ]
  },
  {
   "cell_type": "code",
   "execution_count": null,
   "id": "8248cd62",
   "metadata": {
    "colab": {
     "base_uri": "https://localhost:8080/"
    },
    "executionInfo": {
     "elapsed": 3,
     "status": "ok",
     "timestamp": 1705976116228,
     "user": {
      "displayName": "ASAD AYUB",
      "userId": "01156840666497798230"
     },
     "user_tz": -300
    },
    "id": "8248cd62",
    "outputId": "54ff6935-0972-4c2a-d3bd-877bbeb8128d"
   },
   "outputs": [],
   "source": [
    "stores_df.info()"
   ]
  },
  {
   "cell_type": "code",
   "execution_count": null,
   "id": "094b95d3",
   "metadata": {
    "colab": {
     "base_uri": "https://localhost:8080/",
     "height": 112
    },
    "executionInfo": {
     "elapsed": 4,
     "status": "ok",
     "timestamp": 1705976119297,
     "user": {
      "displayName": "ASAD AYUB",
      "userId": "01156840666497798230"
     },
     "user_tz": -300
    },
    "id": "094b95d3",
    "outputId": "0d471b05-ee70-425e-80ea-f90eca4a1719"
   },
   "outputs": [],
   "source": [
    "stores_df.describe().transpose()"
   ]
  },
  {
   "cell_type": "code",
   "execution_count": null,
   "id": "b9f330b5",
   "metadata": {
    "colab": {
     "base_uri": "https://localhost:8080/"
    },
    "executionInfo": {
     "elapsed": 307,
     "status": "ok",
     "timestamp": 1705976123150,
     "user": {
      "displayName": "ASAD AYUB",
      "userId": "01156840666497798230"
     },
     "user_tz": -300
    },
    "id": "b9f330b5",
    "outputId": "ca228b78-e1a2-4321-cd51-498b150bd38e"
   },
   "outputs": [],
   "source": [
    "stores_df['Type'].unique()"
   ]
  },
  {
   "cell_type": "code",
   "execution_count": null,
   "id": "ce2fab4c",
   "metadata": {
    "colab": {
     "base_uri": "https://localhost:8080/"
    },
    "executionInfo": {
     "elapsed": 4,
     "status": "ok",
     "timestamp": 1705976126621,
     "user": {
      "displayName": "ASAD AYUB",
      "userId": "01156840666497798230"
     },
     "user_tz": -300
    },
    "id": "ce2fab4c",
    "outputId": "ec9b90a2-5dbb-429b-ca91-46412dabdfeb"
   },
   "outputs": [],
   "source": [
    "stores_df.isna().sum()"
   ]
  },
  {
   "cell_type": "markdown",
   "id": "c07e5396",
   "metadata": {
    "id": "c07e5396"
   },
   "source": [
    "**Stores.csv**\n",
    "- Each row of data contains the store ID, Store Type and Size of the store.\n",
    "- `Store`: There are 45 stores\n",
    "- `Type`: 3 types, A, B and C.\n",
    "- `Size` of the store is likely to be square feet area\n",
    "- There are no null values in this dataset."
   ]
  },
  {
   "cell_type": "code",
   "execution_count": null,
   "id": "f24e8bb2",
   "metadata": {
    "colab": {
     "base_uri": "https://localhost:8080/"
    },
    "executionInfo": {
     "elapsed": 308,
     "status": "ok",
     "timestamp": 1705976131217,
     "user": {
      "displayName": "ASAD AYUB",
      "userId": "01156840666497798230"
     },
     "user_tz": -300
    },
    "id": "f24e8bb2",
    "outputId": "04e8f2bc-bf9c-45c6-ddcc-1680b6532e7c"
   },
   "outputs": [],
   "source": [
    "features_df.info()"
   ]
  },
  {
   "cell_type": "code",
   "execution_count": null,
   "id": "516ba1e7",
   "metadata": {
    "colab": {
     "base_uri": "https://localhost:8080/",
     "height": 300
    },
    "executionInfo": {
     "elapsed": 340,
     "status": "ok",
     "timestamp": 1705976141514,
     "user": {
      "displayName": "ASAD AYUB",
      "userId": "01156840666497798230"
     },
     "user_tz": -300
    },
    "id": "516ba1e7",
    "outputId": "0dc391a5-ade2-472b-faa9-e7cdff17cc69"
   },
   "outputs": [],
   "source": [
    "features_df.describe()"
   ]
  },
  {
   "cell_type": "code",
   "execution_count": null,
   "id": "1c117489",
   "metadata": {
    "colab": {
     "base_uri": "https://localhost:8080/",
     "height": 206
    },
    "executionInfo": {
     "elapsed": 599,
     "status": "ok",
     "timestamp": 1705976161285,
     "user": {
      "displayName": "ASAD AYUB",
      "userId": "01156840666497798230"
     },
     "user_tz": -300
    },
    "id": "1c117489",
    "outputId": "657bc82e-ff56-4c57-ba77-d0fa7b8871b7"
   },
   "outputs": [],
   "source": [
    "features_df.sample(5)"
   ]
  },
  {
   "cell_type": "markdown",
   "id": "147e7557",
   "metadata": {
    "id": "147e7557"
   },
   "source": [
    "**Features.csv**\n",
    "- Each row corresponding to one week recorded on Thursdays. 10 feature columns, 1 date column and 1 store ID column.\n",
    "- Feature data starts from 5th Feb 2010, and ends on 26th July 2013. So we - have 1267 days or 3.5 years of data. The stores had 13 holidays during this period\n",
    "- `MarkDown1, MarkDown2,MarkDown3,MarkDown4,MarkDown5`. There are 5 different types of markdowns. There are missing values for markdowns, CPI and unemployment. The competition also notes that markdowns are only available from Nov-11 and not available for all stores.\n",
    "- `Temperature` - Likley to be Temperature of the location where the store is located in Fahrenheit\n",
    "- `CPI` - Likley to be the US Consumer Price Index\n",
    "- `Fuel Price` - Likely to be fuel price in US Dollars\n",
    "- `Unemployment` - Likely to be US unemployment numbers\n",
    "\n"
   ]
  },
  {
   "cell_type": "markdown",
   "id": "cc671d20",
   "metadata": {
    "id": "cc671d20"
   },
   "source": [
    "### Merge store and features into train and test data"
   ]
  },
  {
   "cell_type": "code",
   "execution_count": null,
   "id": "d2e1c7f2",
   "metadata": {
    "executionInfo": {
     "elapsed": 1108,
     "status": "ok",
     "timestamp": 1705982965223,
     "user": {
      "displayName": "ASAD AYUB",
      "userId": "01156840666497798230"
     },
     "user_tz": -300
    },
    "id": "d2e1c7f2"
   },
   "outputs": [],
   "source": [
    "merged_train_df = pd.merge(train_df, stores_df, how = \"left\").merge(features_df, how = 'left')\n",
    "merged_test_df = pd.merge(test_df, stores_df, how = \"left\").merge(features_df,how = 'left')\n",
    "merged_train_df[\"Date\"] = pd.to_datetime(merged_train_df['Date'])\n",
    "merged_test_df[\"Date\"] = pd.to_datetime(merged_test_df['Date'])"
   ]
  },
  {
   "cell_type": "markdown",
   "id": "7f64ae56",
   "metadata": {
    "id": "7f64ae56"
   },
   "source": [
    "- 536,634 rows ( train = 421,570, test = 115,064) and 14 columns  \n",
    "- Weekly sales numbers ordered by date for 45 stores and 81 departments ( numbered 1 to 99)\n",
    "- Grouped/ hierarchical time series i.e, weekly sales  on a particular date each week, for each store and department in each store\n",
    "- Internal inputs : Store Number, Store Type, Store Size, Dept number , IsHoliday, mark downs\n",
    "- External inputs:  CPI, Temperature, Unemployment & Fuel Price"
   ]
  },
  {
   "cell_type": "markdown",
   "id": "31ff92d4",
   "metadata": {
    "id": "31ff92d4"
   },
   "source": [
    "## Translating business problem to machine learning"
   ]
  },
  {
   "cell_type": "code",
   "execution_count": null,
   "id": "Yc2TDiNEIKq4",
   "metadata": {
    "colab": {
     "base_uri": "https://localhost:8080/"
    },
    "executionInfo": {
     "elapsed": 4,
     "status": "ok",
     "timestamp": 1705976623765,
     "user": {
      "displayName": "ASAD AYUB",
      "userId": "01156840666497798230"
     },
     "user_tz": -300
    },
    "id": "Yc2TDiNEIKq4",
    "outputId": "7ccd5828-01b2-4392-8916-777bdca1f4a7"
   },
   "outputs": [],
   "source": [
    "merged_train_df.columns"
   ]
  },
  {
   "cell_type": "markdown",
   "id": "a22e2c2e",
   "metadata": {
    "id": "a22e2c2e"
   },
   "source": [
    "\n",
    "**Target variable**: Predict “Weekly_Sales” for dates in the future using current information. Our target variable “Weekly_Sales”, is a series of continuous values.   \n",
    "\n",
    "**Input variables** : We can categorise the variables as below\n",
    "- Internal inputs : Store Number, Store Type, Store Size, Dept number , IsHoliday, Markdowns (1 to 5)\n",
    "- External inputs:  CPI, Temperature, Unemployment & Fuel Price   \n",
    "\n",
    "  \n",
    "\n",
    "**Model:**\n",
    "This problem can be modeled using a single classical **supervised** machine learning **regression** model covering all stores and departments.  \n",
    "\n",
    "We will use a **regression** model to predict our target variable “Weekly_Sales” which is a **grouped/hierarchical** time series.  \n",
    "\n",
    "We will explore the following categories of models, engineer features and hypertune parameters to choose a model with the best fit.\n",
    "- Linear models\n",
    "- Tree models\n",
    "- Ensemble models\n",
    "\n",
    "\n",
    "\n",
    "**Evaluation criteria**. In addition to WMAE, we will also use additional evaluation criteria such as MAE, RMSE and R2"
   ]
  },
  {
   "cell_type": "code",
   "execution_count": null,
   "id": "ff13a8aa",
   "metadata": {
    "id": "ff13a8aa"
   },
   "outputs": [],
   "source": []
  },
  {
   "cell_type": "markdown",
   "id": "1697611c",
   "metadata": {
    "id": "1697611c"
   },
   "source": [
    "## Feature Engineering"
   ]
  },
  {
   "cell_type": "markdown",
   "id": "8d994476",
   "metadata": {
    "id": "8d994476"
   },
   "source": [
    "This section has been moved up as some of them are used in EDA too. As we have seen from the correlation analysis, the basic inputs variables seem to have weak predictive power. We can therefore explore if we can create useful features.\n",
    "This is an iterative process, where new features can be explored over time.\n",
    "\n",
    "The first basic features created were the date features, the rest were added iteratively during the exploratory data analysis."
   ]
  },
  {
   "cell_type": "markdown",
   "id": "89b9b07b",
   "metadata": {
    "id": "89b9b07b"
   },
   "source": [
    "### Date Features\n",
    "We will extract features from the Date. This is the most basic feature engineering required to provide meaningful inputs to the model as they expect numeric inputs instead of a DateTime type."
   ]
  },
  {
   "cell_type": "code",
   "execution_count": null,
   "id": "2ff5d5a7",
   "metadata": {
    "executionInfo": {
     "elapsed": 314,
     "status": "ok",
     "timestamp": 1705982973799,
     "user": {
      "displayName": "ASAD AYUB",
      "userId": "01156840666497798230"
     },
     "user_tz": -300
    },
    "id": "2ff5d5a7"
   },
   "outputs": [],
   "source": [
    "def create_date_features(df):\n",
    "\n",
    "    df[\"Date\"] = pd.to_datetime(df['Date'])\n",
    "    df['WeekofYear'] = (df['Date'].dt.isocalendar().week).astype('int')\n",
    "    df['Month'] = df['Date'].dt.month\n",
    "    df['Year'] = df['Date'].dt.year\n",
    "    df['Day'] = df['Date'].dt.day\n",
    "\n",
    "    return df"
   ]
  },
  {
   "cell_type": "code",
   "execution_count": null,
   "id": "31f08b52",
   "metadata": {
    "executionInfo": {
     "elapsed": 477,
     "status": "ok",
     "timestamp": 1705982974594,
     "user": {
      "displayName": "ASAD AYUB",
      "userId": "01156840666497798230"
     },
     "user_tz": -300
    },
    "id": "31f08b52"
   },
   "outputs": [],
   "source": [
    "\n",
    "merged_train_df = create_date_features(merged_train_df)\n",
    "merged_test_df = create_date_features(merged_test_df)"
   ]
  },
  {
   "cell_type": "markdown",
   "id": "ecb69708",
   "metadata": {
    "id": "ecb69708"
   },
   "source": [
    "## Holiday Features\n",
    "Holidays have a huge impact on Weekly sales as we discovered from our EDA. We have isolated holidays that have the most impact. Here we will create features for them."
   ]
  },
  {
   "cell_type": "code",
   "execution_count": null,
   "id": "4634645a",
   "metadata": {
    "executionInfo": {
     "elapsed": 337,
     "status": "ok",
     "timestamp": 1705982987883,
     "user": {
      "displayName": "ASAD AYUB",
      "userId": "01156840666497798230"
     },
     "user_tz": -300
    },
    "id": "4634645a"
   },
   "outputs": [],
   "source": [
    "def create_holiday_features(df):\n",
    "  df['BlackFriday_Week'] = np.where(np.isin(df['WeekofYear'],np.array([47,48])), 1, 0)\n",
    "  df['SuperBowl_Week'] = np.where(np.isin(df['WeekofYear'],np.array([5,6])), 1, 0)\n",
    "  df['Christmas_Season'] = np.where(np.isin(df['WeekofYear'],np.array([49,50,51])), 1, 0)\n",
    "\n",
    "  return df"
   ]
  },
  {
   "cell_type": "code",
   "execution_count": null,
   "id": "80a153d9",
   "metadata": {
    "executionInfo": {
     "elapsed": 329,
     "status": "ok",
     "timestamp": 1705982991001,
     "user": {
      "displayName": "ASAD AYUB",
      "userId": "01156840666497798230"
     },
     "user_tz": -300
    },
    "id": "80a153d9"
   },
   "outputs": [],
   "source": [
    "merged_train_df = create_holiday_features(merged_train_df)\n",
    "merged_test_df = create_holiday_features(merged_test_df)"
   ]
  },
  {
   "cell_type": "markdown",
   "id": "bac16cd6",
   "metadata": {
    "id": "bac16cd6"
   },
   "source": [
    "## Markdown Features\n",
    "\n",
    "One of the requirements from the business is to analyse the impact of MarkDowns on Weekly Sales, so let us create some markdown features as well."
   ]
  },
  {
   "cell_type": "code",
   "execution_count": null,
   "id": "e1356661",
   "metadata": {
    "executionInfo": {
     "elapsed": 336,
     "status": "ok",
     "timestamp": 1705982998834,
     "user": {
      "displayName": "ASAD AYUB",
      "userId": "01156840666497798230"
     },
     "user_tz": -300
    },
    "id": "e1356661"
   },
   "outputs": [],
   "source": [
    "def create_markdown_features(df):\n",
    "\n",
    "  cols_MarkDown = ['MarkDown1','MarkDown2','MarkDown3','MarkDown4','MarkDown5']\n",
    "\n",
    "  has_MarkDown = ~df[cols_MarkDown].isna()\n",
    "  df['has_MarkDown_info'] = has_MarkDown.prod(axis=1)                                  #set a Markdown flag of Markdown exists\n",
    "  df['total_MarkDown'] = df[cols_MarkDown].sum(axis=1)                            #Sum of all Markdowns for each row\n",
    "\n",
    "  for col in cols_MarkDown:\n",
    "    df[\"has_\"+ col] = np.where(np.isnan(df[col]), 0, 1)                            #set a Markdown flag for each markdown if available\n",
    "    df[\"pct_\"+ col] = np.where(np.isnan(df[col]), 0, df[col]/df['total_MarkDown']) # pct of each markdown versus total (since we can't do pct of sales in test)\n",
    "\n",
    "\n",
    "\n",
    "  return df"
   ]
  },
  {
   "cell_type": "code",
   "execution_count": null,
   "id": "89b5065a",
   "metadata": {
    "executionInfo": {
     "elapsed": 347,
     "status": "ok",
     "timestamp": 1705983003054,
     "user": {
      "displayName": "ASAD AYUB",
      "userId": "01156840666497798230"
     },
     "user_tz": -300
    },
    "id": "89b5065a"
   },
   "outputs": [],
   "source": [
    "merged_train_df = create_markdown_features(merged_train_df)\n",
    "merged_test_df = create_markdown_features(merged_test_df)"
   ]
  },
  {
   "cell_type": "code",
   "execution_count": null,
   "id": "4e38008b",
   "metadata": {
    "id": "4e38008b"
   },
   "outputs": [],
   "source": []
  },
  {
   "cell_type": "markdown",
   "id": "1c9186e1",
   "metadata": {
    "id": "1c9186e1"
   },
   "source": [
    "## Performer Features"
   ]
  },
  {
   "cell_type": "markdown",
   "id": "a6f1f781",
   "metadata": {
    "id": "a6f1f781"
   },
   "source": [
    "This set of features was an attempt to overcome the issues with interpretibility and dimensionality of one-hot encoding nominal features such as Store and Dept. But they turned out to be a huge drag on model performance."
   ]
  },
  {
   "cell_type": "code",
   "execution_count": null,
   "id": "ab90b573",
   "metadata": {
    "executionInfo": {
     "elapsed": 316,
     "status": "ok",
     "timestamp": 1705983010582,
     "user": {
      "displayName": "ASAD AYUB",
      "userId": "01156840666497798230"
     },
     "user_tz": -300
    },
    "id": "ab90b573"
   },
   "outputs": [],
   "source": [
    "def create_performer_features(df):\n",
    "\n",
    "  #high sales depts\n",
    "  df['Top_Depts'] = np.where(np.isin(df['Dept'],np.array([92, 95, 38, 72, 65, 90, 40, 2, 91, 94])), 1, 0)\n",
    "  #low sales depts\n",
    "  df['Bottom_Depts'] = np.where(np.isin(df['Dept'],np.array([99, 60, 77, 54, 45, 51, 39, 78, 43, 47])), 1, 0)\n",
    "\n",
    "  #high sales stores\n",
    "  df['Top_Stores'] = np.where(np.isin(df['Store'],np.array([20, 4, 14, 13, 2, 10, 27, 6, 1, 39])), 1, 0)\n",
    "  #low sales stores\n",
    "  df['Bottom_Stores'] = np.where(np.isin(df['Store'],np.array([30, 36, 7, 29, 16, 38, 3, 44, 33, 5])), 1, 0)\n",
    "\n",
    "  return df"
   ]
  },
  {
   "cell_type": "code",
   "execution_count": null,
   "id": "396a66aa",
   "metadata": {
    "executionInfo": {
     "elapsed": 2,
     "status": "ok",
     "timestamp": 1705983010922,
     "user": {
      "displayName": "ASAD AYUB",
      "userId": "01156840666497798230"
     },
     "user_tz": -300
    },
    "id": "396a66aa"
   },
   "outputs": [],
   "source": [
    "merged_train_df = create_performer_features(merged_train_df)\n",
    "merged_test_df = create_performer_features(merged_test_df)"
   ]
  },
  {
   "cell_type": "markdown",
   "id": "60b28bc0",
   "metadata": {
    "id": "60b28bc0"
   },
   "source": [
    "## Store and Dept Rank Features"
   ]
  },
  {
   "cell_type": "markdown",
   "id": "a4a0c137",
   "metadata": {
    "id": "a4a0c137"
   },
   "source": [
    "`Store` and `Dept` are just numbers which are some form of ID. Let us try to create some features for Store and Department to provide some more meaningful information for our models. We will rank the stores and departments by the average of grouped weekly_sales."
   ]
  },
  {
   "cell_type": "code",
   "execution_count": null,
   "id": "0fe70c57",
   "metadata": {
    "executionInfo": {
     "elapsed": 374,
     "status": "ok",
     "timestamp": 1705983013912,
     "user": {
      "displayName": "ASAD AYUB",
      "userId": "01156840666497798230"
     },
     "user_tz": -300
    },
    "id": "0fe70c57"
   },
   "outputs": [],
   "source": [
    "store_rank_df = merged_train_df.groupby('Store', as_index= False).agg(Avg_Store_Sales = ('Weekly_Sales',lambda x: x.mean())).round(0)\n",
    "store_rank_df['Store_Rank'] = store_rank_df['Avg_Store_Sales'].rank(ascending= False).astype(int)\n",
    "store_rank_df.sort_values(by=['Store_Rank'], ascending= True, inplace= True)"
   ]
  },
  {
   "cell_type": "code",
   "execution_count": null,
   "id": "e19cc4a2",
   "metadata": {
    "executionInfo": {
     "elapsed": 8,
     "status": "ok",
     "timestamp": 1705983014339,
     "user": {
      "displayName": "ASAD AYUB",
      "userId": "01156840666497798230"
     },
     "user_tz": -300
    },
    "id": "e19cc4a2"
   },
   "outputs": [],
   "source": [
    "dept_rank_df = merged_train_df.groupby('Dept', as_index= False).agg(Avg_Dept_Sales = ('Weekly_Sales',lambda x: x.mean())).round(0)\n",
    "dept_rank_df['Dept_Rank'] = dept_rank_df['Avg_Dept_Sales'].rank(ascending= False).astype(int)\n",
    "dept_rank_df.sort_values(by=['Dept_Rank'], ascending= True, inplace= True)"
   ]
  },
  {
   "cell_type": "code",
   "execution_count": null,
   "id": "65ee9341",
   "metadata": {
    "executionInfo": {
     "elapsed": 6,
     "status": "ok",
     "timestamp": 1705983014339,
     "user": {
      "displayName": "ASAD AYUB",
      "userId": "01156840666497798230"
     },
     "user_tz": -300
    },
    "id": "65ee9341"
   },
   "outputs": [],
   "source": [
    "def create_rank_features(df):\n",
    "\n",
    "  df = pd.merge(df, store_rank_df, how='left', on= 'Store')\n",
    "  df = pd.merge(df, dept_rank_df, how='left', on= 'Dept')\n",
    "\n",
    "  return df"
   ]
  },
  {
   "cell_type": "code",
   "execution_count": null,
   "id": "1mCe84_sMASl",
   "metadata": {
    "executionInfo": {
     "elapsed": 804,
     "status": "ok",
     "timestamp": 1705983015138,
     "user": {
      "displayName": "ASAD AYUB",
      "userId": "01156840666497798230"
     },
     "user_tz": -300
    },
    "id": "1mCe84_sMASl"
   },
   "outputs": [],
   "source": [
    "merged_train_df = create_rank_features(merged_train_df)\n",
    "merged_test_df = create_rank_features(merged_test_df)"
   ]
  },
  {
   "cell_type": "code",
   "execution_count": null,
   "id": "AjVYJBqBMM0z",
   "metadata": {
    "colab": {
     "base_uri": "https://localhost:8080/"
    },
    "executionInfo": {
     "elapsed": 587,
     "status": "ok",
     "timestamp": 1705983015722,
     "user": {
      "displayName": "ASAD AYUB",
      "userId": "01156840666497798230"
     },
     "user_tz": -300
    },
    "id": "AjVYJBqBMM0z",
    "outputId": "40c02c64-0ea5-45bd-d8e5-26523b1eaa90"
   },
   "outputs": [],
   "source": [
    "merged_train_df.info()"
   ]
  },
  {
   "cell_type": "markdown",
   "id": "4bdf6a91",
   "metadata": {
    "id": "4bdf6a91"
   },
   "source": [
    "## Exploratory data analysis"
   ]
  },
  {
   "cell_type": "markdown",
   "id": "5a057522",
   "metadata": {
    "id": "5a057522"
   },
   "source": [
    "### Summary Statistics and Sample Data"
   ]
  },
  {
   "cell_type": "code",
   "execution_count": null,
   "id": "8192d06d",
   "metadata": {
    "colab": {
     "base_uri": "https://localhost:8080/",
     "height": 391
    },
    "executionInfo": {
     "elapsed": 813,
     "status": "ok",
     "timestamp": 1705977671652,
     "user": {
      "displayName": "ASAD AYUB",
      "userId": "01156840666497798230"
     },
     "user_tz": -300
    },
    "id": "8192d06d",
    "outputId": "48c632b0-b018-47b7-aaa7-05e16434e6c0"
   },
   "outputs": [],
   "source": [
    "merged_train_df.sample(6)"
   ]
  },
  {
   "cell_type": "code",
   "execution_count": null,
   "id": "d16230ad",
   "metadata": {
    "colab": {
     "base_uri": "https://localhost:8080/",
     "height": 349
    },
    "executionInfo": {
     "elapsed": 849,
     "status": "ok",
     "timestamp": 1705977711367,
     "user": {
      "displayName": "ASAD AYUB",
      "userId": "01156840666497798230"
     },
     "user_tz": -300
    },
    "id": "d16230ad",
    "outputId": "93e84bd9-b1ad-4c2d-c2ea-10496c0e33bf"
   },
   "outputs": [],
   "source": [
    "merged_train_df.describe()"
   ]
  },
  {
   "cell_type": "code",
   "execution_count": null,
   "id": "7a88ba83",
   "metadata": {
    "colab": {
     "base_uri": "https://localhost:8080/",
     "height": 342
    },
    "executionInfo": {
     "elapsed": 348,
     "status": "ok",
     "timestamp": 1705977717267,
     "user": {
      "displayName": "ASAD AYUB",
      "userId": "01156840666497798230"
     },
     "user_tz": -300
    },
    "id": "7a88ba83",
    "outputId": "579b5d61-092f-4528-d1d8-cd4ca2056f37"
   },
   "outputs": [],
   "source": [
    "merged_test_df.sample(5)"
   ]
  },
  {
   "cell_type": "code",
   "execution_count": null,
   "id": "92183e3d",
   "metadata": {
    "colab": {
     "base_uri": "https://localhost:8080/",
     "height": 349
    },
    "executionInfo": {
     "elapsed": 719,
     "status": "ok",
     "timestamp": 1705977730075,
     "user": {
      "displayName": "ASAD AYUB",
      "userId": "01156840666497798230"
     },
     "user_tz": -300
    },
    "id": "92183e3d",
    "outputId": "fce457cd-caa0-4b78-dbac-dce207c223b7"
   },
   "outputs": [],
   "source": [
    "merged_test_df.describe()"
   ]
  },
  {
   "cell_type": "code",
   "execution_count": null,
   "id": "e9cfdf66",
   "metadata": {
    "id": "e9cfdf66"
   },
   "outputs": [],
   "source": []
  },
  {
   "cell_type": "markdown",
   "id": "bd3db794",
   "metadata": {
    "id": "bd3db794"
   },
   "source": [
    "Assumptions:\n",
    "\n",
    "- Size is the store Size and in square feet\n",
    "- Temperature is in Farenheit\n",
    "- Weekly Sales is un US Dollars ($)\n",
    "\n",
    "- Weekly sales has negative values. This could be because weekly sales = sales  returns - discounts\n",
    "- 75% of Weekly Sales are less than or equal to \\\\$20K But the highest Weekly - Sales is of \\\\$693K. This suggests that the data has extreme outliers.\n",
    "- Temperature has varied from -2 degree Fahrenheit to 100 degree Fahrenheit\n",
    "- The other values seem to be reasonable with respect to summary statistics"
   ]
  },
  {
   "cell_type": "markdown",
   "id": "ee887d6b",
   "metadata": {
    "id": "ee887d6b"
   },
   "source": [
    "### Availability of Train and Test Data"
   ]
  },
  {
   "cell_type": "code",
   "execution_count": null,
   "id": "6fb8f602",
   "metadata": {
    "executionInfo": {
     "elapsed": 419,
     "status": "ok",
     "timestamp": 1705977799130,
     "user": {
      "displayName": "ASAD AYUB",
      "userId": "01156840666497798230"
     },
     "user_tz": -300
    },
    "id": "6fb8f602"
   },
   "outputs": [],
   "source": [
    "train_avail= merged_train_df.groupby(by=\"Year\", as_index= False)['Store'].agg({'train_count':\"count\"})\n",
    "test_avail = merged_test_df.groupby(by=\"Year\", as_index= False)['Store'].agg({'test_count':\"count\"})\n",
    "data_avail = pd.merge(train_avail, test_avail, how= 'outer', on='Year').fillna(0)"
   ]
  },
  {
   "cell_type": "code",
   "execution_count": null,
   "id": "6ac368b4",
   "metadata": {
    "colab": {
     "base_uri": "https://localhost:8080/",
     "height": 555
    },
    "executionInfo": {
     "elapsed": 4432,
     "status": "ok",
     "timestamp": 1705977808415,
     "user": {
      "displayName": "ASAD AYUB",
      "userId": "01156840666497798230"
     },
     "user_tz": -300
    },
    "id": "6ac368b4",
    "outputId": "a324af31-4466-46db-ffa2-bb9432d4930b"
   },
   "outputs": [],
   "source": [
    "fig, axes = plt.subplots(1, 2, figsize=(15,5))\n",
    "fig.suptitle('Data Availability')\n",
    "data_avail.plot(kind='bar', x='Year', ax= axes[0])\n",
    "axes[1].set_title(\"Train data by month\")\n",
    "sns.countplot(data= merged_train_df, x=\"Month\", hue=\"Year\",ax=axes[1] )\n",
    "sns.despine();"
   ]
  },
  {
   "cell_type": "code",
   "execution_count": null,
   "id": "5b83ffd1",
   "metadata": {
    "id": "5b83ffd1"
   },
   "outputs": [],
   "source": []
  },
  {
   "cell_type": "markdown",
   "id": "021d4ed6",
   "metadata": {
    "id": "021d4ed6"
   },
   "source": [
    "- Train data is available from 5, Feb 2010 to 26 October 2012. 143 weeks of data\n",
    "- Test data starts from 02, November, 2012 and is available upto 26-July-2013\n",
    "\n",
    "\n",
    "\n"
   ]
  },
  {
   "cell_type": "markdown",
   "id": "5bda3faf",
   "metadata": {
    "id": "5bda3faf"
   },
   "source": [
    "### Analysis of Stores by Type and Size"
   ]
  },
  {
   "cell_type": "code",
   "execution_count": null,
   "id": "c190270f",
   "metadata": {
    "colab": {
     "base_uri": "https://localhost:8080/",
     "height": 578
    },
    "executionInfo": {
     "elapsed": 1685,
     "status": "ok",
     "timestamp": 1705977821865,
     "user": {
      "displayName": "ASAD AYUB",
      "userId": "01156840666497798230"
     },
     "user_tz": -300
    },
    "id": "c190270f",
    "outputId": "14cb5231-1073-42c0-de44-6b96adb03981"
   },
   "outputs": [],
   "source": [
    "fig,axes = plt.subplots(1,2,figsize= (18,6))\n",
    "sns.countplot(data= stores_df,  x = \"Type\", ax=axes[0])\n",
    "axes[0].set_title(\"Number of stores by Type\")\n",
    "sns.stripplot(x=\"Type\", y= \"Size\", data= stores_df, ax = axes[1])\n",
    "axes[1].set_title(\"Stores by Size\")\n",
    "sns.despine();"
   ]
  },
  {
   "cell_type": "markdown",
   "id": "d0612fb5",
   "metadata": {
    "id": "d0612fb5"
   },
   "source": [
    "- Type A stores (Supercenters) are the largest of the three types (with a few exceptions)\n",
    "- Type C stores (neighbourhood stores) are the smallest in size  \n",
    "- There are more stores of Type A (22) and very few stores of Type C(6)\n",
    "- A few Type A (Supercenters) and B (discount stores) also have sizes similar to Type C (neighbourhood) stores"
   ]
  },
  {
   "cell_type": "markdown",
   "id": "3e9aea6c",
   "metadata": {
    "id": "3e9aea6c"
   },
   "source": [
    "### Weekly Sales"
   ]
  },
  {
   "cell_type": "code",
   "execution_count": null,
   "id": "2170fccb",
   "metadata": {
    "colab": {
     "base_uri": "https://localhost:8080/",
     "height": 539
    },
    "executionInfo": {
     "elapsed": 4152,
     "status": "ok",
     "timestamp": 1705977847569,
     "user": {
      "displayName": "ASAD AYUB",
      "userId": "01156840666497798230"
     },
     "user_tz": -300
    },
    "id": "2170fccb",
    "outputId": "c712d420-c859-4f5d-da5b-005afa6c4d92"
   },
   "outputs": [],
   "source": [
    "fig, ax = plt.subplots(figsize = (20,6))\n",
    "merged_train_df.plot(y='Weekly_Sales', x='Date', ax=ax)\n",
    "plt.title(\"Train Data: Weekly Sales\")\n",
    "sns.despine();"
   ]
  },
  {
   "cell_type": "code",
   "execution_count": null,
   "id": "394b9cd8",
   "metadata": {
    "id": "394b9cd8"
   },
   "outputs": [],
   "source": []
  },
  {
   "cell_type": "markdown",
   "id": "5538dcf3",
   "metadata": {
    "id": "5538dcf3"
   },
   "source": [
    "It is hard to single out trends in this graph. Let us try to smoothen the data to isolate broader trends. Seaborn does this automatically as below."
   ]
  },
  {
   "cell_type": "code",
   "execution_count": null,
   "id": "a806e02c",
   "metadata": {
    "colab": {
     "base_uri": "https://localhost:8080/",
     "height": 545
    },
    "executionInfo": {
     "elapsed": 13245,
     "status": "ok",
     "timestamp": 1705977868024,
     "user": {
      "displayName": "ASAD AYUB",
      "userId": "01156840666497798230"
     },
     "user_tz": -300
    },
    "id": "a806e02c",
    "outputId": "d792f96e-87bd-4417-a653-44060aed05fe"
   },
   "outputs": [],
   "source": [
    "fig, ax = plt.subplots(figsize = (20,6))\n",
    "sns.lineplot(data=merged_train_df, x=\"Date\", y=\"Weekly_Sales\")\n",
    "plt.title(\"Train Data: Smoothened Weekly Sales Seasonality and Trends\")\n",
    "\n",
    "date_format = DateFormatter(\"%b-%y\")\n",
    "ax.xaxis.set_major_formatter(date_format)\n",
    "ax.xaxis.set_major_locator(mdates.MonthLocator(interval=3))\n",
    "ax.xaxis.set_minor_locator(mdates.MonthLocator(interval=1))\n",
    "sns.despine();"
   ]
  },
  {
   "cell_type": "code",
   "execution_count": null,
   "id": "4eb87d36",
   "metadata": {
    "id": "4eb87d36"
   },
   "outputs": [],
   "source": []
  },
  {
   "cell_type": "code",
   "execution_count": null,
   "id": "0867c42c",
   "metadata": {
    "id": "0867c42c"
   },
   "outputs": [],
   "source": []
  },
  {
   "cell_type": "markdown",
   "id": "141325dc",
   "metadata": {
    "id": "141325dc"
   },
   "source": [
    "There seem to be broad trends around Nov-Dec each year. Let us try to isolate some more patterns."
   ]
  },
  {
   "cell_type": "markdown",
   "id": "8134cb7b",
   "metadata": {
    "id": "8134cb7b"
   },
   "source": [
    "### Weekly Sales by Month"
   ]
  },
  {
   "cell_type": "code",
   "execution_count": null,
   "id": "9621d185",
   "metadata": {
    "colab": {
     "base_uri": "https://localhost:8080/",
     "height": 612
    },
    "executionInfo": {
     "elapsed": 4159,
     "status": "ok",
     "timestamp": 1705977885541,
     "user": {
      "displayName": "ASAD AYUB",
      "userId": "01156840666497798230"
     },
     "user_tz": -300
    },
    "id": "9621d185",
    "outputId": "dcda7ba2-3db6-4b4d-8e52-1094af277c5b"
   },
   "outputs": [],
   "source": [
    "fig, axes = plt.subplots(figsize = (18,6))\n",
    "fig.suptitle(\" Train Data: Weekly Sales by Month of the Year\")\n",
    "sns.violinplot(data= merged_train_df, y='Weekly_Sales', x = \"Month\")\n",
    "sns.despine();"
   ]
  },
  {
   "cell_type": "code",
   "execution_count": null,
   "id": "8e63bb8a",
   "metadata": {
    "id": "8e63bb8a"
   },
   "outputs": [],
   "source": []
  },
  {
   "cell_type": "markdown",
   "id": "73983b9d",
   "metadata": {
    "id": "73983b9d"
   },
   "source": [
    "Weekly sales are reported on the Thursday of each week. We see strong seasonality around the same time each year. Let us explore this further"
   ]
  },
  {
   "cell_type": "markdown",
   "id": "8d198dc5",
   "metadata": {
    "id": "8d198dc5"
   },
   "source": [
    "### Weekly Sales by Week of the Year"
   ]
  },
  {
   "cell_type": "code",
   "execution_count": null,
   "id": "42727571",
   "metadata": {
    "colab": {
     "base_uri": "https://localhost:8080/",
     "height": 612
    },
    "executionInfo": {
     "elapsed": 3336,
     "status": "ok",
     "timestamp": 1705977894391,
     "user": {
      "displayName": "ASAD AYUB",
      "userId": "01156840666497798230"
     },
     "user_tz": -300
    },
    "id": "42727571",
    "outputId": "103f14ad-cc8e-4076-8722-de62b94fa816"
   },
   "outputs": [],
   "source": [
    "fig, axes = plt.subplots(figsize = (18,6))\n",
    "fig.suptitle(\" Train Data: Weekly Sales by Week of the Year\")\n",
    "sns.boxplot(data= merged_train_df, y='Weekly_Sales', x = \"WeekofYear\")\n",
    "sns.despine();"
   ]
  },
  {
   "cell_type": "code",
   "execution_count": null,
   "id": "14eac666",
   "metadata": {
    "executionInfo": {
     "elapsed": 15,
     "status": "ok",
     "timestamp": 1705977935314,
     "user": {
      "displayName": "ASAD AYUB",
      "userId": "01156840666497798230"
     },
     "user_tz": -300
    },
    "id": "14eac666"
   },
   "outputs": [],
   "source": []
  },
  {
   "cell_type": "markdown",
   "id": "X48EybDxNYSl",
   "metadata": {
    "id": "X48EybDxNYSl"
   },
   "source": [
    "### Weekly Sales by Store"
   ]
  },
  {
   "cell_type": "code",
   "execution_count": null,
   "id": "5d782d61",
   "metadata": {
    "colab": {
     "base_uri": "https://localhost:8080/",
     "height": 692
    },
    "executionInfo": {
     "elapsed": 9145,
     "status": "ok",
     "timestamp": 1705977935313,
     "user": {
      "displayName": "ASAD AYUB",
      "userId": "01156840666497798230"
     },
     "user_tz": -300
    },
    "id": "5d782d61",
    "outputId": "cc0bd0df-8a31-4918-f387-c502df3c2125"
   },
   "outputs": [],
   "source": [
    "fig, ax = plt.subplots(figsize=(15,8))\n",
    "\n",
    "grouped = merged_train_df.groupby('Store')\n",
    "for key, group in grouped:\n",
    "    group.plot(ax=ax, kind='line', x='Date', y='Weekly_Sales', label=key)\n",
    "\n",
    "date_format = DateFormatter(\"%b-%y\")\n",
    "ax.xaxis.set_major_formatter(date_format)\n",
    "ax.xaxis.set_major_locator(mdates.MonthLocator(interval=3))\n",
    "ax.xaxis.set_minor_locator(mdates.MonthLocator(interval=1))\n",
    "\n",
    "plt.title(\"Train Data: Weekly Sales by Store\")\n",
    "plt.legend(fontsize='small', ncol=4,handleheight=2.4, labelspacing=0.05, frameon= False)\n",
    "sns.despine()"
   ]
  },
  {
   "cell_type": "markdown",
   "id": "0637c15f",
   "metadata": {
    "id": "0637c15f"
   },
   "source": [
    "Not all stores seem to have the same peaks. Let us now explore departments."
   ]
  },
  {
   "cell_type": "markdown",
   "id": "6656529a",
   "metadata": {
    "id": "6656529a"
   },
   "source": [
    "#### Weekly Sales by Dept"
   ]
  },
  {
   "cell_type": "code",
   "execution_count": null,
   "id": "0504fdf0",
   "metadata": {
    "colab": {
     "base_uri": "https://localhost:8080/",
     "height": 692
    },
    "executionInfo": {
     "elapsed": 15817,
     "status": "ok",
     "timestamp": 1705977996830,
     "user": {
      "displayName": "ASAD AYUB",
      "userId": "01156840666497798230"
     },
     "user_tz": -300
    },
    "id": "0504fdf0",
    "outputId": "90e21b48-7c44-4be3-fee8-1307bcbabb86"
   },
   "outputs": [],
   "source": [
    "fig, ax = plt.subplots(figsize=(15,8))\n",
    "\n",
    "grouped = merged_train_df.groupby('Dept')\n",
    "for key, group in grouped:\n",
    "    group.plot(ax=ax, kind='line', x='Date', y='Weekly_Sales', label=key)\n",
    "\n",
    "date_format = DateFormatter(\"%b-%y\")\n",
    "ax.xaxis.set_major_formatter(date_format)\n",
    "ax.xaxis.set_major_locator(mdates.MonthLocator(interval=3))\n",
    "ax.xaxis.set_minor_locator(mdates.MonthLocator(interval=1))\n",
    "\n",
    "plt.title(\"Train Data: Weekly Sales by Dept\")\n",
    "plt.legend(fontsize='xx-small', ncol=4,handleheight=2.4, labelspacing=0.05, frameon= False)\n",
    "sns.despine()"
   ]
  },
  {
   "cell_type": "code",
   "execution_count": null,
   "id": "97a3da3a",
   "metadata": {
    "id": "97a3da3a"
   },
   "outputs": [],
   "source": []
  },
  {
   "cell_type": "code",
   "execution_count": null,
   "id": "3e727477",
   "metadata": {
    "id": "3e727477"
   },
   "outputs": [],
   "source": []
  },
  {
   "cell_type": "markdown",
   "id": "06a332b7",
   "metadata": {
    "id": "06a332b7"
   },
   "source": [
    "Individual departments seem to have different patterns too. Let us now see a single store with a couple of departments."
   ]
  },
  {
   "cell_type": "markdown",
   "id": "7536fa14",
   "metadata": {
    "id": "7536fa14"
   },
   "source": [
    "#### Weekly Sales by Select store and Dept"
   ]
  },
  {
   "cell_type": "code",
   "execution_count": null,
   "id": "49f52dca",
   "metadata": {
    "executionInfo": {
     "elapsed": 335,
     "status": "ok",
     "timestamp": 1705978001396,
     "user": {
      "displayName": "ASAD AYUB",
      "userId": "01156840666497798230"
     },
     "user_tz": -300
    },
    "id": "49f52dca"
   },
   "outputs": [],
   "source": [
    "single_store_dept_mask1 = (merged_train_df.Store == 1) & (merged_train_df.Dept == 1)\n",
    "single_store_dept_mask2 = (merged_train_df.Store == 1) & (merged_train_df.Dept == 72)"
   ]
  },
  {
   "cell_type": "code",
   "execution_count": null,
   "id": "926026e7",
   "metadata": {
    "colab": {
     "base_uri": "https://localhost:8080/",
     "height": 575
    },
    "executionInfo": {
     "elapsed": 2027,
     "status": "ok",
     "timestamp": 1705978005986,
     "user": {
      "displayName": "ASAD AYUB",
      "userId": "01156840666497798230"
     },
     "user_tz": -300
    },
    "id": "926026e7",
    "outputId": "3ee5654d-170b-4e80-896a-56b9025ba328"
   },
   "outputs": [],
   "source": [
    "fig, ax = plt.subplots(figsize = (20,6))\n",
    "merged_train_df[single_store_dept_mask1].plot(y='Weekly_Sales', x='Date',label = 'Dept1', ax=ax)\n",
    "merged_train_df[single_store_dept_mask2].plot(y='Weekly_Sales', x='Date', label = 'Dept72', ax=ax)\n",
    "plt.title(\"Train Data: Weekly Sales train data for Store 1,  Dept 1 & 72\")\n",
    "sns.despine();"
   ]
  },
  {
   "cell_type": "markdown",
   "id": "a74688dd",
   "metadata": {
    "id": "a74688dd"
   },
   "source": [
    "Therefore it will be important to retain Store and Department as features."
   ]
  },
  {
   "cell_type": "markdown",
   "id": "9eb1d4c4",
   "metadata": {
    "id": "9eb1d4c4"
   },
   "source": [
    "### How do holidays effect Weekly Sales?"
   ]
  },
  {
   "cell_type": "code",
   "execution_count": null,
   "id": "ae821fd9",
   "metadata": {
    "colab": {
     "base_uri": "https://localhost:8080/",
     "height": 0,
     "output_embedded_package_id": "1qce2zaSSTH6hfCR1CyiWjR9D4YEv8k9C"
    },
    "executionInfo": {
     "elapsed": 14198,
     "status": "ok",
     "timestamp": 1705978030497,
     "user": {
      "displayName": "ASAD AYUB",
      "userId": "01156840666497798230"
     },
     "user_tz": -300
    },
    "id": "ae821fd9",
    "outputId": "db1d9253-7694-4866-fc41-7c9693fe13a3"
   },
   "outputs": [],
   "source": [
    "fig = px.histogram(train_df,\n",
    "                  x='Weekly_Sales',\n",
    "                   marginal='box',\n",
    "                   color = 'IsHoliday',\n",
    "                   color_discrete_sequence=['green', 'grey'],\n",
    "                   nbins = 50,\n",
    "                   title='Distribution of Weekly Sales by Holiday')\n",
    "fig.update_layout(bargap=0.1)\n",
    "fig.show()"
   ]
  },
  {
   "cell_type": "markdown",
   "id": "31844c7c",
   "metadata": {
    "id": "31844c7c"
   },
   "source": [
    "- Weekly sales for weeks with holidays are quite similar to weeks which have no holidays\n",
    "- But there are definitely some weeks with holidays which see blockbuster sales.\n",
    "- This is probably because stores run promotions (with markdowns) during certain holidays.\n",
    "Walmart is famous for its annual mega promos for Black Friday which is the Friday after ThanksGiving.  \n",
    "Let us now analyse these further.  "
   ]
  },
  {
   "cell_type": "markdown",
   "id": "e6fe715b",
   "metadata": {
    "id": "e6fe715b"
   },
   "source": [
    "![](https://i.imgur.com/4Q12u2a.png)"
   ]
  },
  {
   "cell_type": "markdown",
   "id": "7e4c1c07",
   "metadata": {
    "id": "7e4c1c07"
   },
   "source": [
    "### Do larger stores sell more?"
   ]
  },
  {
   "cell_type": "code",
   "execution_count": null,
   "id": "d8f9455d",
   "metadata": {
    "colab": {
     "base_uri": "https://localhost:8080/",
     "height": 0,
     "output_embedded_package_id": "1AQy8uGPgTJEhV4p1NWMDl1nClgV86qRK"
    },
    "executionInfo": {
     "elapsed": 13339,
     "status": "ok",
     "timestamp": 1705978112255,
     "user": {
      "displayName": "ASAD AYUB",
      "userId": "01156840666497798230"
     },
     "user_tz": -300
    },
    "id": "d8f9455d",
    "outputId": "c06ad5ac-08b3-40ab-d5f6-4203e7ccab4c"
   },
   "outputs": [],
   "source": [
    "fig = px.histogram(merged_train_df,\n",
    "                  x='Weekly_Sales',\n",
    "                  marginal='box',\n",
    "                  color = 'Type',\n",
    "                   color_discrete_sequence=['blue','green', 'grey'],\n",
    "                   nbins = 50,\n",
    "                  title='Distribution of Weekly Sales by Store Type')\n",
    "fig.update_layout(bargap=0.1)\n",
    "fig.show()"
   ]
  },
  {
   "cell_type": "code",
   "execution_count": null,
   "id": "8fcde0ff",
   "metadata": {
    "id": "8fcde0ff"
   },
   "outputs": [],
   "source": []
  },
  {
   "cell_type": "code",
   "execution_count": null,
   "id": "ca9e447c",
   "metadata": {
    "id": "ca9e447c"
   },
   "outputs": [],
   "source": []
  },
  {
   "cell_type": "code",
   "execution_count": null,
   "id": "2369a4dc",
   "metadata": {
    "id": "2369a4dc"
   },
   "outputs": [],
   "source": []
  },
  {
   "cell_type": "markdown",
   "id": "54abc3ce",
   "metadata": {
    "id": "54abc3ce"
   },
   "source": [
    "- The larger size stores, Type A have higher Weekly Sales than Type B and C Stores\n",
    "- However Type B stores have most of the outliers or blockbuster sales. There are most likely the discount stores running holiday promotions with Markdowns(discounts)  \n",
    "Let us now explore these blockbuster sales further"
   ]
  },
  {
   "cell_type": "markdown",
   "id": "33f5dd72",
   "metadata": {
    "id": "33f5dd72"
   },
   "source": [
    "### When do the blockbuster sales occur?"
   ]
  },
  {
   "cell_type": "code",
   "execution_count": null,
   "id": "b7309826",
   "metadata": {
    "colab": {
     "base_uri": "https://localhost:8080/"
    },
    "executionInfo": {
     "elapsed": 464,
     "status": "ok",
     "timestamp": 1705978116037,
     "user": {
      "displayName": "ASAD AYUB",
      "userId": "01156840666497798230"
     },
     "user_tz": -300
    },
    "id": "b7309826",
    "outputId": "8e145acf-e3dc-44c9-a89d-596101259c42"
   },
   "outputs": [],
   "source": [
    "blockbusters = merged_train_df.Weekly_Sales > 220000\n",
    "blockbusters_df = merged_train_df[blockbusters].sort_values(by='Date', ascending= True)\n",
    "blockbusters_days = [pd.to_datetime(day).strftime(\"%Y %B %d\") for day in blockbusters_df.Date.unique()]\n",
    "blockbusters_days"
   ]
  },
  {
   "cell_type": "markdown",
   "id": "a74a6ab7",
   "metadata": {
    "id": "a74a6ab7"
   },
   "source": [
    "- Holidays which have an impact for certain: Week of Super Bowl, Black Friday, Christmas Eve.\n",
    "- Possibly Christmas Season from ThanksGiving to Christmas  \n",
    "- Labour day doesn't seem to figure in this list  \n",
    "- It's also interesting to see blockbuster sales during the events of Occupy Wall Street protests, Hurricane Irene and the US primaries"
   ]
  },
  {
   "cell_type": "markdown",
   "id": "48b0a7ff",
   "metadata": {
    "id": "48b0a7ff"
   },
   "source": [
    "### Which departments sell more and which ones sell the least?"
   ]
  },
  {
   "cell_type": "code",
   "execution_count": null,
   "id": "c9a388f4",
   "metadata": {
    "colab": {
     "base_uri": "https://localhost:8080/",
     "height": 530
    },
    "executionInfo": {
     "elapsed": 2910,
     "status": "ok",
     "timestamp": 1705978144219,
     "user": {
      "displayName": "ASAD AYUB",
      "userId": "01156840666497798230"
     },
     "user_tz": -300
    },
    "id": "c9a388f4",
    "outputId": "aaccd381-bd47-4555-d0c8-555affc5d477"
   },
   "outputs": [],
   "source": [
    "fig, ax = plt.subplots(figsize = (22,6))\n",
    "fig.suptitle(\"Weekly Sales by Department\")\n",
    "sns.boxplot(data= merged_train_df, y='Weekly_Sales', x = 'Dept', color = 'cyan')\n",
    "sns.despine();"
   ]
  },
  {
   "cell_type": "code",
   "execution_count": null,
   "id": "3f2bda2a",
   "metadata": {
    "colab": {
     "base_uri": "https://localhost:8080/"
    },
    "executionInfo": {
     "elapsed": 4,
     "status": "ok",
     "timestamp": 1705978155378,
     "user": {
      "displayName": "ASAD AYUB",
      "userId": "01156840666497798230"
     },
     "user_tz": -300
    },
    "id": "3f2bda2a",
    "outputId": "f4012726-b402-47ae-9832-5e0c3d359edf"
   },
   "outputs": [],
   "source": [
    "#Top 10 Departments\n",
    "depts = merged_train_df.groupby(by=('Dept'), as_index= False)['Weekly_Sales'].mean().sort_values(by=('Weekly_Sales'), ascending= False)\n",
    "top_10_depts = depts.head(10)\n",
    "list(top_10_depts.Dept)"
   ]
  },
  {
   "cell_type": "code",
   "execution_count": null,
   "id": "a1df5a7e",
   "metadata": {
    "colab": {
     "base_uri": "https://localhost:8080/"
    },
    "executionInfo": {
     "elapsed": 362,
     "status": "ok",
     "timestamp": 1705978162257,
     "user": {
      "displayName": "ASAD AYUB",
      "userId": "01156840666497798230"
     },
     "user_tz": -300
    },
    "id": "a1df5a7e",
    "outputId": "7eee3ea3-7adc-444d-d28a-78e6dab56130"
   },
   "outputs": [],
   "source": [
    "#Bottom 10 Departments\n",
    "bottom_10_depts = depts.tail(10)\n",
    "list(bottom_10_depts.Dept)"
   ]
  },
  {
   "cell_type": "markdown",
   "id": "8bd3fae5",
   "metadata": {
    "id": "8bd3fae5"
   },
   "source": [
    "### Which stores have sold the most and which ones sold the least?"
   ]
  },
  {
   "cell_type": "code",
   "execution_count": null,
   "id": "fc6cfcfe",
   "metadata": {
    "colab": {
     "base_uri": "https://localhost:8080/",
     "height": 531
    },
    "executionInfo": {
     "elapsed": 2585,
     "status": "ok",
     "timestamp": 1705978179786,
     "user": {
      "displayName": "ASAD AYUB",
      "userId": "01156840666497798230"
     },
     "user_tz": -300
    },
    "id": "fc6cfcfe",
    "outputId": "748770a1-2218-4afc-ebbd-bc5c461ccd48"
   },
   "outputs": [],
   "source": [
    "fig, ax = plt.subplots(figsize = (22,6))\n",
    "fig.suptitle(\"Weekly Sales by Store\")\n",
    "sns.boxplot(data= merged_train_df, y='Weekly_Sales', x = \"Store\", color=\"skyblue\")\n",
    "sns.despine();"
   ]
  },
  {
   "cell_type": "code",
   "execution_count": null,
   "id": "a0e69ec2",
   "metadata": {
    "colab": {
     "base_uri": "https://localhost:8080/"
    },
    "executionInfo": {
     "elapsed": 323,
     "status": "ok",
     "timestamp": 1705978191588,
     "user": {
      "displayName": "ASAD AYUB",
      "userId": "01156840666497798230"
     },
     "user_tz": -300
    },
    "id": "a0e69ec2",
    "outputId": "c67c3027-b75d-4037-bee1-f38ba47d111c"
   },
   "outputs": [],
   "source": [
    "#Top 10 Stores\n",
    "stores = merged_train_df.groupby(by=('Store'), as_index= False)['Weekly_Sales'].mean().sort_values(by=('Weekly_Sales'), ascending= False)\n",
    "top_10_stores = stores.head(10)\n",
    "list(top_10_stores.Store)"
   ]
  },
  {
   "cell_type": "code",
   "execution_count": null,
   "id": "5d6a2ea0",
   "metadata": {
    "colab": {
     "base_uri": "https://localhost:8080/"
    },
    "executionInfo": {
     "elapsed": 387,
     "status": "ok",
     "timestamp": 1705978198797,
     "user": {
      "displayName": "ASAD AYUB",
      "userId": "01156840666497798230"
     },
     "user_tz": -300
    },
    "id": "5d6a2ea0",
    "outputId": "7eef739e-76aa-4b5b-93ad-bf1b31a9c52b"
   },
   "outputs": [],
   "source": [
    "#Bottom 10 Stores\n",
    "bottom_10_stores = stores.tail(10)\n",
    "list(bottom_10_stores.Store)"
   ]
  },
  {
   "cell_type": "markdown",
   "id": "da49c5b2",
   "metadata": {
    "id": "da49c5b2"
   },
   "source": [
    "### How do MarkDowns and Holidays effect Weekly Sales?"
   ]
  },
  {
   "cell_type": "code",
   "execution_count": null,
   "id": "845332a1",
   "metadata": {
    "colab": {
     "base_uri": "https://localhost:8080/",
     "height": 613
    },
    "executionInfo": {
     "elapsed": 24751,
     "status": "ok",
     "timestamp": 1705978248294,
     "user": {
      "displayName": "ASAD AYUB",
      "userId": "01156840666497798230"
     },
     "user_tz": -300
    },
    "id": "845332a1",
    "outputId": "2874f354-abe0-4f2a-926a-303cd3462625"
   },
   "outputs": [],
   "source": [
    "fig, axes = plt.subplots(1,2, figsize = (18,6))\n",
    "fig.suptitle(\"Effect of Holidays and Markdowns on Weekly Sales\")\n",
    "sns.barplot(data= merged_train_df, x=\"has_MarkDown_info\", y=\"Weekly_Sales\", ax= axes[0])\n",
    "sns.barplot(data=merged_train_df, x=\"IsHoliday\", y=\"Weekly_Sales\",  ax = axes[1])\n",
    "sns.despine();"
   ]
  },
  {
   "cell_type": "code",
   "execution_count": null,
   "id": "91f2a0ac",
   "metadata": {
    "id": "91f2a0ac"
   },
   "outputs": [],
   "source": []
  },
  {
   "cell_type": "markdown",
   "id": "7763173b",
   "metadata": {
    "id": "7763173b"
   },
   "source": [
    "Markdowns and Holidays seem to be important as well. But Markdowns are going to be tricky since this information is not present consistently according to the information we have on the competition."
   ]
  },
  {
   "cell_type": "code",
   "execution_count": null,
   "id": "8d138681",
   "metadata": {
    "id": "8d138681"
   },
   "outputs": [],
   "source": []
  },
  {
   "cell_type": "markdown",
   "id": "5a25027a",
   "metadata": {
    "id": "5a25027a"
   },
   "source": [
    "## Data preparation"
   ]
  },
  {
   "cell_type": "markdown",
   "id": "3245511b",
   "metadata": {
    "id": "3245511b"
   },
   "source": [
    "### Train, Val and Test sets"
   ]
  },
  {
   "cell_type": "markdown",
   "id": "57f2edad",
   "metadata": {
    "id": "57f2edad"
   },
   "source": [
    "Splitting available data into train, val and test is an important step before training a model on the data and using the model parameters to using the model in the real world for prediction.\n",
    "\n",
    "- **train** : used to fit our model (get the parameters based on our features)\n",
    "- **val** : used to tune hyperparameters ( regularise for bias and variance)\n",
    "- **test**: evaluate model performance close to real world/future\n",
    "\n",
    "Therefore it is important that the val and test sets are as close to the real world as possible. So experiment with your train_val_test splits.\n",
    "\n",
    "Key observations to prevent **Data Leakage**\n",
    "- Split data before transforming data (encoding, imputing, scaling)\n",
    "- Since this is a time-series dataset , ensure that we order the data by Date and their respective heirarchies Store and Dept before split. Otherwise we will be using data from the future to train our model.\n",
    "- If using `sklearn` set `shuffle` to `False` using information from the future"
   ]
  },
  {
   "cell_type": "code",
   "execution_count": null,
   "id": "b572270e",
   "metadata": {
    "executionInfo": {
     "elapsed": 854,
     "status": "ok",
     "timestamp": 1705983069764,
     "user": {
      "displayName": "ASAD AYUB",
      "userId": "01156840666497798230"
     },
     "user_tz": -300
    },
    "id": "b572270e"
   },
   "outputs": [],
   "source": [
    "#Sort dataset by Dates, Store and Dept\n",
    "merged_train_df.sort_values(by=['Date','Store','Dept'], inplace= True)\n",
    "merged_test_df.sort_values(by=['Date','Store','Dept'], inplace= True)"
   ]
  },
  {
   "cell_type": "code",
   "execution_count": null,
   "id": "09f3fd2a",
   "metadata": {
    "id": "09f3fd2a"
   },
   "outputs": [],
   "source": []
  },
  {
   "cell_type": "markdown",
   "id": "Q1iON3F5WWIJ",
   "metadata": {
    "id": "Q1iON3F5WWIJ"
   },
   "source": [
    "#### Identify Numeric and Categorical Data"
   ]
  },
  {
   "cell_type": "code",
   "execution_count": null,
   "id": "qamSWkUiXx5s",
   "metadata": {
    "colab": {
     "base_uri": "https://localhost:8080/"
    },
    "executionInfo": {
     "elapsed": 4,
     "status": "ok",
     "timestamp": 1705980690680,
     "user": {
      "displayName": "ASAD AYUB",
      "userId": "01156840666497798230"
     },
     "user_tz": -300
    },
    "id": "qamSWkUiXx5s",
    "outputId": "940891b3-bda3-4a37-cc58-55dc7f6a12d7"
   },
   "outputs": [],
   "source": [
    "merged_train_df.columns"
   ]
  },
  {
   "cell_type": "code",
   "execution_count": null,
   "id": "B9jEzYPoYA2U",
   "metadata": {
    "executionInfo": {
     "elapsed": 492,
     "status": "ok",
     "timestamp": 1705982585621,
     "user": {
      "displayName": "ASAD AYUB",
      "userId": "01156840666497798230"
     },
     "user_tz": -300
    },
    "id": "B9jEzYPoYA2U"
   },
   "outputs": [],
   "source": [
    "inputs_colums = ['Store', 'Dept', 'Date','IsHoliday', 'Type', 'Size',\n",
    "       'Temperature', 'Fuel_Price', 'MarkDown1', 'MarkDown2', 'MarkDown3',\n",
    "       'MarkDown4', 'MarkDown5', 'CPI', 'Unemployment', 'WeekofYear', 'Month',\n",
    "       'Year', 'Day', 'BlackFriday_Week', 'SuperBowl_Week', 'Christmas_Season',\n",
    "       'has_MarkDown_info', 'total_MarkDown', 'has_MarkDown1', 'pct_MarkDown1',\n",
    "       'has_MarkDown2', 'pct_MarkDown2', 'has_MarkDown3', 'pct_MarkDown3',\n",
    "       'has_MarkDown4', 'pct_MarkDown4', 'has_MarkDown5', 'pct_MarkDown5',\n",
    "       'Top_Depts', 'Bottom_Depts', 'Top_Stores', 'Bottom_Stores',\n",
    "       'Avg_Store_Sales', 'Store_Rank', 'Avg_Dept_Sales', 'Dept_Rank']"
   ]
  },
  {
   "cell_type": "code",
   "execution_count": null,
   "id": "4_cfVGLze0m3",
   "metadata": {
    "colab": {
     "base_uri": "https://localhost:8080/",
     "height": 333
    },
    "executionInfo": {
     "elapsed": 557,
     "status": "error",
     "timestamp": 1705982593728,
     "user": {
      "displayName": "ASAD AYUB",
      "userId": "01156840666497798230"
     },
     "user_tz": -300
    },
    "id": "4_cfVGLze0m3",
    "outputId": "c81a1c45-7f36-4faa-b719-618610509088"
   },
   "outputs": [],
   "source": []
  },
  {
   "cell_type": "code",
   "execution_count": null,
   "id": "8672ca18",
   "metadata": {
    "executionInfo": {
     "elapsed": 1522,
     "status": "ok",
     "timestamp": 1705985016186,
     "user": {
      "displayName": "ASAD AYUB",
      "userId": "01156840666497798230"
     },
     "user_tz": -300
    },
    "id": "8672ca18"
   },
   "outputs": [],
   "source": [
    "import numpy as np"
   ]
  },
  {
   "cell_type": "code",
   "execution_count": null,
   "id": "3d5b5d29",
   "metadata": {
    "executionInfo": {
     "elapsed": 1555,
     "status": "ok",
     "timestamp": 1705985023142,
     "user": {
      "displayName": "ASAD AYUB",
      "userId": "01156840666497798230"
     },
     "user_tz": -300
    },
    "id": "3d5b5d29"
   },
   "outputs": [],
   "source": [
    "numeric_cols = merged_train_df.select_dtypes(include=['int64', 'float64']).columns.tolist()"
   ]
  },
  {
   "cell_type": "code",
   "execution_count": null,
   "id": "14c30d98",
   "metadata": {
    "executionInfo": {
     "elapsed": 376,
     "status": "ok",
     "timestamp": 1705985036263,
     "user": {
      "displayName": "ASAD AYUB",
      "userId": "01156840666497798230"
     },
     "user_tz": -300
    },
    "id": "14c30d98"
   },
   "outputs": [],
   "source": [
    "categorical_cols = merged_train_df.select_dtypes('object').columns.tolist()"
   ]
  },
  {
   "cell_type": "code",
   "execution_count": null,
   "id": "f401c4e5",
   "metadata": {
    "colab": {
     "base_uri": "https://localhost:8080/"
    },
    "executionInfo": {
     "elapsed": 398,
     "status": "ok",
     "timestamp": 1705985038578,
     "user": {
      "displayName": "ASAD AYUB",
      "userId": "01156840666497798230"
     },
     "user_tz": -300
    },
    "id": "f401c4e5",
    "outputId": "92f09631-fe9f-4fa5-ea10-c44c004e324c"
   },
   "outputs": [],
   "source": [
    "print(list(numeric_cols))"
   ]
  },
  {
   "cell_type": "code",
   "execution_count": null,
   "id": "57a28deb",
   "metadata": {
    "colab": {
     "base_uri": "https://localhost:8080/"
    },
    "executionInfo": {
     "elapsed": 397,
     "status": "ok",
     "timestamp": 1705985042043,
     "user": {
      "displayName": "ASAD AYUB",
      "userId": "01156840666497798230"
     },
     "user_tz": -300
    },
    "id": "57a28deb",
    "outputId": "6c502906-4a6b-4aaa-9781-b9d1e9ef1eca"
   },
   "outputs": [],
   "source": [
    "print(list(categorical_cols))"
   ]
  },
  {
   "cell_type": "code",
   "execution_count": null,
   "id": "aS0M2EnOXDBi",
   "metadata": {
    "id": "aS0M2EnOXDBi"
   },
   "outputs": [],
   "source": []
  },
  {
   "cell_type": "markdown",
   "id": "iHXhwOxKXOEl",
   "metadata": {
    "id": "iHXhwOxKXOEl"
   },
   "source": [
    "#### Impute Numerical Data"
   ]
  },
  {
   "cell_type": "code",
   "execution_count": null,
   "id": "w-Hc8zkXXC-K",
   "metadata": {
    "colab": {
     "base_uri": "https://localhost:8080/"
    },
    "executionInfo": {
     "elapsed": 407,
     "status": "ok",
     "timestamp": 1705985063131,
     "user": {
      "displayName": "ASAD AYUB",
      "userId": "01156840666497798230"
     },
     "user_tz": -300
    },
    "id": "w-Hc8zkXXC-K",
    "outputId": "010b81aa-377f-44f3-c911-c7a85dbec2ad"
   },
   "outputs": [],
   "source": [
    "missing_counts = merged_train_df[numeric_cols].isna().sum().sort_values(ascending=False)\n",
    "missing_counts[missing_counts > 0]"
   ]
  },
  {
   "cell_type": "code",
   "execution_count": null,
   "id": "tDJoVjyyotQz",
   "metadata": {
    "executionInfo": {
     "elapsed": 357,
     "status": "ok",
     "timestamp": 1705985165175,
     "user": {
      "displayName": "ASAD AYUB",
      "userId": "01156840666497798230"
     },
     "user_tz": -300
    },
    "id": "tDJoVjyyotQz"
   },
   "outputs": [],
   "source": [
    "numeric_cols_for_test = ['Store', 'Dept', 'Size', 'Temperature', 'Fuel_Price', 'MarkDown1', 'MarkDown2', 'MarkDown3', 'MarkDown4', 'MarkDown5', 'CPI', 'Unemployment', 'WeekofYear', 'Month', 'Year', 'Day', 'BlackFriday_Week', 'SuperBowl_Week', 'Christmas_Season', 'has_MarkDown_info', 'total_MarkDown', 'has_MarkDown1', 'pct_MarkDown1', 'has_MarkDown2', 'pct_MarkDown2', 'has_MarkDown3', 'pct_MarkDown3', 'has_MarkDown4', 'pct_MarkDown4', 'has_MarkDown5', 'pct_MarkDown5', 'Top_Depts', 'Bottom_Depts', 'Top_Stores', 'Bottom_Stores', 'Avg_Store_Sales', 'Store_Rank', 'Avg_Dept_Sales', 'Dept_Rank']\n"
   ]
  },
  {
   "cell_type": "code",
   "execution_count": null,
   "id": "A85AXXogXC7p",
   "metadata": {
    "colab": {
     "base_uri": "https://localhost:8080/"
    },
    "executionInfo": {
     "elapsed": 365,
     "status": "ok",
     "timestamp": 1705985178641,
     "user": {
      "displayName": "ASAD AYUB",
      "userId": "01156840666497798230"
     },
     "user_tz": -300
    },
    "id": "A85AXXogXC7p",
    "outputId": "a7628ec5-3a9b-4f52-9c82-d39f82b3dbf1"
   },
   "outputs": [],
   "source": [
    "missing_counts = merged_test_df[numeric_cols_for_test].isna().sum().sort_values(ascending=False)\n",
    "missing_counts[missing_counts > 0]"
   ]
  },
  {
   "cell_type": "code",
   "execution_count": null,
   "id": "NMVlUS-EXC4-",
   "metadata": {
    "executionInfo": {
     "elapsed": 720,
     "status": "ok",
     "timestamp": 1705985223408,
     "user": {
      "displayName": "ASAD AYUB",
      "userId": "01156840666497798230"
     },
     "user_tz": -300
    },
    "id": "NMVlUS-EXC4-"
   },
   "outputs": [],
   "source": [
    "# Fill missing values with zero\n",
    "merged_train_df = merged_train_df.fillna(value=0)"
   ]
  },
  {
   "cell_type": "code",
   "execution_count": null,
   "id": "2ZAL3fjXXC2n",
   "metadata": {
    "executionInfo": {
     "elapsed": 365,
     "status": "ok",
     "timestamp": 1705985226645,
     "user": {
      "displayName": "ASAD AYUB",
      "userId": "01156840666497798230"
     },
     "user_tz": -300
    },
    "id": "2ZAL3fjXXC2n"
   },
   "outputs": [],
   "source": [
    "merged_test_df=merged_test_df.fillna(value=0)"
   ]
  },
  {
   "cell_type": "code",
   "execution_count": null,
   "id": "EUITyRBmXCy9",
   "metadata": {
    "colab": {
     "base_uri": "https://localhost:8080/"
    },
    "executionInfo": {
     "elapsed": 407,
     "status": "ok",
     "timestamp": 1705985245847,
     "user": {
      "displayName": "ASAD AYUB",
      "userId": "01156840666497798230"
     },
     "user_tz": -300
    },
    "id": "EUITyRBmXCy9",
    "outputId": "d7287bfa-3733-49fb-e71e-e562adba3e93"
   },
   "outputs": [],
   "source": [
    "missing_counts = merged_test_df[numeric_cols_for_test].isna().sum().sort_values(ascending=False)\n",
    "missing_counts[missing_counts > 0]"
   ]
  },
  {
   "cell_type": "code",
   "execution_count": null,
   "id": "48r7EuoqXCvS",
   "metadata": {
    "colab": {
     "base_uri": "https://localhost:8080/"
    },
    "executionInfo": {
     "elapsed": 953,
     "status": "ok",
     "timestamp": 1705985257442,
     "user": {
      "displayName": "ASAD AYUB",
      "userId": "01156840666497798230"
     },
     "user_tz": -300
    },
    "id": "48r7EuoqXCvS",
    "outputId": "402e6c83-383d-4098-d6fb-14364b4a1ca3"
   },
   "outputs": [],
   "source": [
    "missing_counts =merged_train_df[numeric_cols].isna().sum().sort_values(ascending=False)\n",
    "missing_counts[missing_counts > 0]"
   ]
  },
  {
   "cell_type": "code",
   "execution_count": null,
   "id": "uiA8KI8JXCsS",
   "metadata": {
    "id": "uiA8KI8JXCsS"
   },
   "outputs": [],
   "source": []
  },
  {
   "cell_type": "code",
   "execution_count": null,
   "id": "w72zOmUIXCpu",
   "metadata": {
    "id": "w72zOmUIXCpu"
   },
   "outputs": [],
   "source": []
  },
  {
   "cell_type": "markdown",
   "id": "7175LSU6a6XX",
   "metadata": {
    "id": "7175LSU6a6XX"
   },
   "source": [
    "#### Encode Categorical Columns"
   ]
  },
  {
   "cell_type": "code",
   "execution_count": null,
   "id": "viIUHxleXCm0",
   "metadata": {
    "executionInfo": {
     "elapsed": 632,
     "status": "ok",
     "timestamp": 1705985263728,
     "user": {
      "displayName": "ASAD AYUB",
      "userId": "01156840666497798230"
     },
     "user_tz": -300
    },
    "id": "viIUHxleXCm0"
   },
   "outputs": [],
   "source": [
    "from sklearn.preprocessing import OneHotEncoder"
   ]
  },
  {
   "cell_type": "code",
   "execution_count": null,
   "id": "5pTobBlEXCjf",
   "metadata": {
    "executionInfo": {
     "elapsed": 548,
     "status": "ok",
     "timestamp": 1705985266420,
     "user": {
      "displayName": "ASAD AYUB",
      "userId": "01156840666497798230"
     },
     "user_tz": -300
    },
    "id": "5pTobBlEXCjf"
   },
   "outputs": [],
   "source": [
    "encoder = OneHotEncoder(sparse=False, handle_unknown='ignore')"
   ]
  },
  {
   "cell_type": "code",
   "execution_count": null,
   "id": "mb2m04uSXCeu",
   "metadata": {
    "colab": {
     "base_uri": "https://localhost:8080/",
     "height": 147
    },
    "executionInfo": {
     "elapsed": 695,
     "status": "ok",
     "timestamp": 1705985294153,
     "user": {
      "displayName": "ASAD AYUB",
      "userId": "01156840666497798230"
     },
     "user_tz": -300
    },
    "id": "mb2m04uSXCeu",
    "outputId": "3cc1ad72-b2b5-4c71-808f-2015aa1b1f63"
   },
   "outputs": [],
   "source": [
    "# 2. Fit the encoder to the categorical colums\n",
    "encoder.fit(merged_train_df[categorical_cols])"
   ]
  },
  {
   "cell_type": "code",
   "execution_count": null,
   "id": "x8bhnfXApc6j",
   "metadata": {
    "colab": {
     "base_uri": "https://localhost:8080/",
     "height": 147
    },
    "executionInfo": {
     "elapsed": 408,
     "status": "ok",
     "timestamp": 1705985357947,
     "user": {
      "displayName": "ASAD AYUB",
      "userId": "01156840666497798230"
     },
     "user_tz": -300
    },
    "id": "x8bhnfXApc6j",
    "outputId": "c68c88b4-00f2-4312-f472-ab0816e8c14b"
   },
   "outputs": [],
   "source": [
    "# 2. Fit the encoder to the categorical colums\n",
    "encoder.fit(merged_test_df[categorical_cols])"
   ]
  },
  {
   "cell_type": "code",
   "execution_count": null,
   "id": "5FfLHc0cXCWL",
   "metadata": {
    "colab": {
     "base_uri": "https://localhost:8080/"
    },
    "executionInfo": {
     "elapsed": 360,
     "status": "ok",
     "timestamp": 1705985407122,
     "user": {
      "displayName": "ASAD AYUB",
      "userId": "01156840666497798230"
     },
     "user_tz": -300
    },
    "id": "5FfLHc0cXCWL",
    "outputId": "dff39896-fc31-4408-a834-a8001a060d94"
   },
   "outputs": [],
   "source": [
    "merged_train_df[categorical_cols].nunique()"
   ]
  },
  {
   "cell_type": "code",
   "execution_count": null,
   "id": "-jrZXFp5XCGK",
   "metadata": {
    "colab": {
     "base_uri": "https://localhost:8080/"
    },
    "executionInfo": {
     "elapsed": 377,
     "status": "ok",
     "timestamp": 1705985395084,
     "user": {
      "displayName": "ASAD AYUB",
      "userId": "01156840666497798230"
     },
     "user_tz": -300
    },
    "id": "-jrZXFp5XCGK",
    "outputId": "eab5afbd-0b24-448d-e1be-595bc152f07d"
   },
   "outputs": [],
   "source": [
    "encoded_cols = list(encoder.get_feature_names_out(categorical_cols))\n",
    "len(encoded_cols)"
   ]
  },
  {
   "cell_type": "code",
   "execution_count": null,
   "id": "_VWGnltTbuAm",
   "metadata": {
    "executionInfo": {
     "elapsed": 962,
     "status": "ok",
     "timestamp": 1705985462539,
     "user": {
      "displayName": "ASAD AYUB",
      "userId": "01156840666497798230"
     },
     "user_tz": -300
    },
    "id": "_VWGnltTbuAm"
   },
   "outputs": [],
   "source": [
    "# 4. Transform and add new one-hot category columns\n",
    "merged_train_df[encoded_cols] = encoder.transform(merged_train_df[categorical_cols])"
   ]
  },
  {
   "cell_type": "code",
   "execution_count": null,
   "id": "Fqnu95a-qF8y",
   "metadata": {
    "executionInfo": {
     "elapsed": 389,
     "status": "ok",
     "timestamp": 1705985487472,
     "user": {
      "displayName": "ASAD AYUB",
      "userId": "01156840666497798230"
     },
     "user_tz": -300
    },
    "id": "Fqnu95a-qF8y"
   },
   "outputs": [],
   "source": [
    "# 4. Transform and add new one-hot category columns\n",
    "merged_test_df[encoded_cols] = encoder.transform(merged_test_df[categorical_cols])"
   ]
  },
  {
   "cell_type": "code",
   "execution_count": null,
   "id": "xngPKU3qbtg7",
   "metadata": {
    "colab": {
     "base_uri": "https://localhost:8080/",
     "height": 245
    },
    "executionInfo": {
     "elapsed": 500,
     "status": "ok",
     "timestamp": 1705985499722,
     "user": {
      "displayName": "ASAD AYUB",
      "userId": "01156840666497798230"
     },
     "user_tz": -300
    },
    "id": "xngPKU3qbtg7",
    "outputId": "3c5f2303-ac0f-47aa-bc8a-49c64d02ab8f"
   },
   "outputs": [],
   "source": [
    "merged_train_df[:3]"
   ]
  },
  {
   "cell_type": "code",
   "execution_count": null,
   "id": "9cKEL5neqQza",
   "metadata": {
    "colab": {
     "base_uri": "https://localhost:8080/",
     "height": 245
    },
    "executionInfo": {
     "elapsed": 389,
     "status": "ok",
     "timestamp": 1705985524632,
     "user": {
      "displayName": "ASAD AYUB",
      "userId": "01156840666497798230"
     },
     "user_tz": -300
    },
    "id": "9cKEL5neqQza",
    "outputId": "4d6ca8aa-9259-4c7f-e408-2df00be00b1f"
   },
   "outputs": [],
   "source": [
    "merged_test_df[:3]"
   ]
  },
  {
   "cell_type": "code",
   "execution_count": null,
   "id": "nm4iXkvTq5Ca",
   "metadata": {
    "colab": {
     "base_uri": "https://localhost:8080/"
    },
    "executionInfo": {
     "elapsed": 430,
     "status": "ok",
     "timestamp": 1705985701011,
     "user": {
      "displayName": "ASAD AYUB",
      "userId": "01156840666497798230"
     },
     "user_tz": -300
    },
    "id": "nm4iXkvTq5Ca",
    "outputId": "f7b1dc6a-5b77-473b-f3c7-9634dd0f697a"
   },
   "outputs": [],
   "source": [
    "merged_train_df.columns"
   ]
  },
  {
   "cell_type": "code",
   "execution_count": null,
   "id": "muV5unfrdcNv",
   "metadata": {
    "executionInfo": {
     "elapsed": 406,
     "status": "ok",
     "timestamp": 1705985826431,
     "user": {
      "displayName": "ASAD AYUB",
      "userId": "01156840666497798230"
     },
     "user_tz": -300
    },
    "id": "muV5unfrdcNv"
   },
   "outputs": [],
   "source": [
    "input_col = ['Store', 'Dept', 'Date', 'IsHoliday', 'Type', 'Size',\n",
    "       'Temperature', 'Fuel_Price', 'MarkDown1', 'MarkDown2', 'MarkDown3',\n",
    "       'MarkDown4', 'MarkDown5', 'CPI', 'Unemployment', 'WeekofYear', 'Month',\n",
    "       'Year', 'Day', 'BlackFriday_Week', 'SuperBowl_Week', 'Christmas_Season',\n",
    "       'has_MarkDown_info', 'total_MarkDown', 'has_MarkDown1', 'pct_MarkDown1',\n",
    "       'has_MarkDown2', 'pct_MarkDown2', 'has_MarkDown3', 'pct_MarkDown3',\n",
    "       'has_MarkDown4', 'pct_MarkDown4', 'has_MarkDown5', 'pct_MarkDown5',\n",
    "       'Top_Depts', 'Bottom_Depts', 'Top_Stores', 'Bottom_Stores',\n",
    "       'Avg_Store_Sales', 'Store_Rank', 'Avg_Dept_Sales', 'Dept_Rank',\n",
    "       'Type_A', 'Type_B', 'Type_C']"
   ]
  },
  {
   "cell_type": "code",
   "execution_count": null,
   "id": "cgbT6_ijrHhw",
   "metadata": {
    "executionInfo": {
     "elapsed": 518,
     "status": "ok",
     "timestamp": 1705985763981,
     "user": {
      "displayName": "ASAD AYUB",
      "userId": "01156840666497798230"
     },
     "user_tz": -300
    },
    "id": "cgbT6_ijrHhw"
   },
   "outputs": [],
   "source": [
    "target_col = [ 'Weekly_Sales']"
   ]
  },
  {
   "cell_type": "code",
   "execution_count": null,
   "id": "330d7bd9",
   "metadata": {},
   "outputs": [],
   "source": [
    "len(merged_train_df)"
   ]
  },
  {
   "cell_type": "code",
   "execution_count": null,
   "id": "e2f543f8",
   "metadata": {},
   "outputs": [],
   "source": [
    "merged_test_df"
   ]
  },
  {
   "cell_type": "code",
   "execution_count": null,
   "id": "5532ece3",
   "metadata": {},
   "outputs": [],
   "source": [
    "sample_merged_train_df =merged_train_df[0:29570]"
   ]
  },
  {
   "cell_type": "code",
   "execution_count": null,
   "id": "d493e149",
   "metadata": {},
   "outputs": [],
   "source": [
    "sample_merged_train_df"
   ]
  },
  {
   "cell_type": "code",
   "execution_count": null,
   "id": "mNws9TpXdcKH",
   "metadata": {
    "executionInfo": {
     "elapsed": 907,
     "status": "ok",
     "timestamp": 1705985829514,
     "user": {
      "displayName": "ASAD AYUB",
      "userId": "01156840666497798230"
     },
     "user_tz": -300
    },
    "id": "mNws9TpXdcKH"
   },
   "outputs": [],
   "source": [
    "#Split with shuffle False since this is a TimeSeries data set\n",
    "from sklearn.model_selection import train_test_split\n",
    "# 90:10 split\n",
    "inputs_train_df, inputs_val_df, y_train, y_val = train_test_split(sample_merged_train_df[input_col], sample_merged_train_df[target_col], test_size = 0.10, random_state = 42, shuffle= False)\n",
    "\n",
    "#default split\n",
    "#inputs_train_df, inputs_val_df, y_train, y_val = train_test_split(merged_train_df[input_col], merged_train_df[target_col], random_state = 42, shuffle= False)"
   ]
  },
  {
   "cell_type": "code",
   "execution_count": null,
   "id": "4S_NfquFdcGm",
   "metadata": {
    "executionInfo": {
     "elapsed": 511,
     "status": "ok",
     "timestamp": 1705985834160,
     "user": {
      "displayName": "ASAD AYUB",
      "userId": "01156840666497798230"
     },
     "user_tz": -300
    },
    "id": "4S_NfquFdcGm"
   },
   "outputs": [],
   "source": [
    "#Split Dates for plots by similar size\n",
    "#train_size = int(0.70 * len(merged_train_df))\n",
    "train_size = len(inputs_train_df)\n",
    "train_dates, val_dates = sample_merged_train_df[:train_size]['Date'], sample_merged_train_df[train_size:]['Date']"
   ]
  },
  {
   "cell_type": "code",
   "execution_count": null,
   "id": "89f9f118",
   "metadata": {},
   "outputs": [],
   "source": [
    "sample_merged_test_df = merged_test_df[0:13064]"
   ]
  },
  {
   "cell_type": "code",
   "execution_count": null,
   "id": "CZUSR81zdcCr",
   "metadata": {
    "executionInfo": {
     "elapsed": 418,
     "status": "ok",
     "timestamp": 1705985837489,
     "user": {
      "displayName": "ASAD AYUB",
      "userId": "01156840666497798230"
     },
     "user_tz": -300
    },
    "id": "CZUSR81zdcCr"
   },
   "outputs": [],
   "source": [
    "inputs_test_df = sample_merged_test_df.copy()"
   ]
  },
  {
   "cell_type": "code",
   "execution_count": null,
   "id": "t3-ZeXl8db-2",
   "metadata": {
    "colab": {
     "base_uri": "https://localhost:8080/",
     "height": 196
    },
    "executionInfo": {
     "elapsed": 907,
     "status": "ok",
     "timestamp": 1705985941331,
     "user": {
      "displayName": "ASAD AYUB",
      "userId": "01156840666497798230"
     },
     "user_tz": -300
    },
    "id": "t3-ZeXl8db-2",
    "outputId": "82ce2bc5-31ae-4bcc-8d30-712e2ec08c89"
   },
   "outputs": [],
   "source": [
    "inputs_train_df"
   ]
  },
  {
   "cell_type": "code",
   "execution_count": null,
   "id": "ZJVLz2gVdb7T",
   "metadata": {
    "colab": {
     "base_uri": "https://localhost:8080/",
     "height": 196
    },
    "executionInfo": {
     "elapsed": 501,
     "status": "ok",
     "timestamp": 1705985954081,
     "user": {
      "displayName": "ASAD AYUB",
      "userId": "01156840666497798230"
     },
     "user_tz": -300
    },
    "id": "ZJVLz2gVdb7T",
    "outputId": "85116b68-0e14-4fdb-debb-6acb4c18060a"
   },
   "outputs": [],
   "source": [
    "inputs_val_df"
   ]
  },
  {
   "cell_type": "code",
   "execution_count": null,
   "id": "xmTy6MaPdbeN",
   "metadata": {
    "id": "xmTy6MaPdbeN"
   },
   "outputs": [],
   "source": []
  },
  {
   "cell_type": "markdown",
   "id": "90c3340f",
   "metadata": {
    "id": "90c3340f"
   },
   "source": [
    "## Feature Selection"
   ]
  },
  {
   "cell_type": "markdown",
   "id": "55088c0b",
   "metadata": {
    "id": "55088c0b"
   },
   "source": [
    "We may have several input features or variables, but selecting fewer and right input variables will make a huge difference in the predictive power or model outcome. Choosing many variables will lead to complex models with low predictive power and several problems such as\n",
    "- Increased noise(variables that don't have any explanatory or predictive power)\n",
    "- Increased dimensionality ( many features which are difficult to interpret and thinly distributed predictive power)\n",
    "- Underfitting and overfitting\n",
    "\n",
    "There are many feature selection techniques such as PCA, SVD, autoencoders and Lasso too. We will make some intuition based selection for now and chalk this up for future work."
   ]
  },
  {
   "cell_type": "code",
   "execution_count": null,
   "id": "y4QFyU1ITZ4b",
   "metadata": {
    "executionInfo": {
     "elapsed": 4,
     "status": "ok",
     "timestamp": 1705979582747,
     "user": {
      "displayName": "ASAD AYUB",
      "userId": "01156840666497798230"
     },
     "user_tz": -300
    },
    "id": "y4QFyU1ITZ4b"
   },
   "outputs": [],
   "source": []
  },
  {
   "cell_type": "code",
   "execution_count": null,
   "id": "QYCFHo7-UZ_k",
   "metadata": {
    "executionInfo": {
     "elapsed": 419,
     "status": "ok",
     "timestamp": 1705985992241,
     "user": {
      "displayName": "ASAD AYUB",
      "userId": "01156840666497798230"
     },
     "user_tz": -300
    },
    "id": "QYCFHo7-UZ_k"
   },
   "outputs": [],
   "source": [
    "new_input_cols = ['Store_Rank', 'Dept_Rank', 'Size', 'Type_A', 'Type_B', 'Type_C',\n",
    "       'IsHoliday', 'WeekofYear', 'Month', 'Day', 'Year', 'BlackFriday_Week',\n",
    "       'SuperBowl_Week', 'Christmas_Season', 'MarkDown1', 'MarkDown2',\n",
    "       'MarkDown3', 'MarkDown4', 'MarkDown5', 'Fuel_Price', 'CPI',\n",
    "       'Unemployment', 'Temperature']"
   ]
  },
  {
   "cell_type": "code",
   "execution_count": null,
   "id": "s_3hrAZTUj08",
   "metadata": {
    "executionInfo": {
     "elapsed": 592,
     "status": "ok",
     "timestamp": 1705985995658,
     "user": {
      "displayName": "ASAD AYUB",
      "userId": "01156840666497798230"
     },
     "user_tz": -300
    },
    "id": "s_3hrAZTUj08"
   },
   "outputs": [],
   "source": [
    "X_train = inputs_train_df[new_input_cols].copy()"
   ]
  },
  {
   "cell_type": "code",
   "execution_count": null,
   "id": "kA4zMkjAfndz",
   "metadata": {
    "executionInfo": {
     "elapsed": 379,
     "status": "ok",
     "timestamp": 1705985998118,
     "user": {
      "displayName": "ASAD AYUB",
      "userId": "01156840666497798230"
     },
     "user_tz": -300
    },
    "id": "kA4zMkjAfndz"
   },
   "outputs": [],
   "source": [
    "X_val = inputs_val_df[new_input_cols].copy()"
   ]
  },
  {
   "cell_type": "code",
   "execution_count": null,
   "id": "10a93e40",
   "metadata": {
    "executionInfo": {
     "elapsed": 486,
     "status": "ok",
     "timestamp": 1705986035938,
     "user": {
      "displayName": "ASAD AYUB",
      "userId": "01156840666497798230"
     },
     "user_tz": -300
    },
    "id": "10a93e40"
   },
   "outputs": [],
   "source": [
    "X_train = inputs_train_df[new_input_cols].copy()\n",
    "X_val = inputs_val_df[new_input_cols].copy()\n",
    "X_test = inputs_test_df[new_input_cols].copy()"
   ]
  },
  {
   "cell_type": "code",
   "execution_count": null,
   "id": "405f06b3",
   "metadata": {
    "colab": {
     "base_uri": "https://localhost:8080/"
    },
    "executionInfo": {
     "elapsed": 715,
     "status": "ok",
     "timestamp": 1705986041686,
     "user": {
      "displayName": "ASAD AYUB",
      "userId": "01156840666497798230"
     },
     "user_tz": -300
    },
    "id": "405f06b3",
    "outputId": "d5fdaf24-34e5-41ca-f2b1-805c72f8185d"
   },
   "outputs": [],
   "source": [
    "X_train.columns"
   ]
  },
  {
   "cell_type": "code",
   "execution_count": null,
   "id": "e6lI9gupULLQ",
   "metadata": {
    "id": "e6lI9gupULLQ"
   },
   "outputs": [],
   "source": []
  },
  {
   "cell_type": "code",
   "execution_count": null,
   "id": "4a293b93",
   "metadata": {
    "colab": {
     "base_uri": "https://localhost:8080/",
     "height": 255
    },
    "executionInfo": {
     "elapsed": 658,
     "status": "ok",
     "timestamp": 1705986075073,
     "user": {
      "displayName": "ASAD AYUB",
      "userId": "01156840666497798230"
     },
     "user_tz": -300
    },
    "id": "4a293b93",
    "outputId": "f12e9fa0-14f7-45b9-c300-50be3bdda21d"
   },
   "outputs": [],
   "source": [
    "X_train"
   ]
  },
  {
   "cell_type": "code",
   "execution_count": null,
   "id": "602fb616",
   "metadata": {
    "id": "602fb616"
   },
   "outputs": [],
   "source": [
    "X_val"
   ]
  },
  {
   "cell_type": "code",
   "execution_count": null,
   "id": "c32c455f",
   "metadata": {
    "id": "c32c455f"
   },
   "outputs": [],
   "source": [
    "X_test "
   ]
  },
  {
   "cell_type": "code",
   "execution_count": null,
   "id": "ff9f1ae1",
   "metadata": {
    "id": "ff9f1ae1"
   },
   "outputs": [],
   "source": []
  },
  {
   "cell_type": "markdown",
   "id": "15edd6c8",
   "metadata": {
    "id": "15edd6c8"
   },
   "source": [
    "## Evaluation Metrics"
   ]
  },
  {
   "cell_type": "markdown",
   "id": "65e8ab0e",
   "metadata": {
    "id": "65e8ab0e"
   },
   "source": [
    "A function to compute Weighted Mean Absolute error(WMAE) as required by the competition is defined. A function to evaluate based on other metrics is also added."
   ]
  },
  {
   "cell_type": "code",
   "execution_count": null,
   "id": "49888b59",
   "metadata": {
    "executionInfo": {
     "elapsed": 376,
     "status": "ok",
     "timestamp": 1705986101628,
     "user": {
      "displayName": "ASAD AYUB",
      "userId": "01156840666497798230"
     },
     "user_tz": -300
    },
    "id": "49888b59"
   },
   "outputs": [],
   "source": [
    "def weighted_mean_absolute_error(df, y_actuals, y_preds):\n",
    "\n",
    "  if 'IsHoliday' in df.columns:\n",
    "    weights = df['IsHoliday'].apply(lambda x: 5 if x ==1 else 1)\n",
    "  elif 'IsHoliday_1' in df.columns:\n",
    "    weights = df['IsHoliday_1'].apply(lambda x: 5 if x==1 else 1)\n",
    "\n",
    "  wmae = (np.sum(abs(y_actuals-y_preds)*weights))/np.sum(weights)\n",
    "\n",
    "  return wmae"
   ]
  },
  {
   "cell_type": "code",
   "execution_count": null,
   "id": "783900a2",
   "metadata": {
    "executionInfo": {
     "elapsed": 497,
     "status": "ok",
     "timestamp": 1705986104614,
     "user": {
      "displayName": "ASAD AYUB",
      "userId": "01156840666497798230"
     },
     "user_tz": -300
    },
    "id": "783900a2"
   },
   "outputs": [],
   "source": [
    "from sklearn.metrics import r2_score, mean_absolute_error, mean_squared_error\n",
    "\n",
    "def model_eval(df, y_actuals, y_preds):\n",
    "\n",
    "    wmae = round(weighted_mean_absolute_error(df, y_actuals, y_preds),2)\n",
    "    mae = round(mean_absolute_error(y_actuals, y_preds),2)\n",
    "    rmse = round(mean_squared_error(y_actuals, y_preds, squared= False),2)\n",
    "    r2 = round(r2_score(y_actuals, y_preds),2)\n",
    "\n",
    "    n = len(df)\n",
    "    p = len(df.columns)\n",
    "    adj_r2 = round(1-(1-r2)*(n-1)/(n-p-1),2)\n",
    "\n",
    "    return {'wmae': wmae,\n",
    "            'mae': mae,\n",
    "            'rmse': rmse,\n",
    "            'adj_r2': adj_r2,\n",
    "            'r2': r2\n",
    "            }"
   ]
  },
  {
   "cell_type": "code",
   "execution_count": null,
   "id": "c00df214",
   "metadata": {
    "id": "c00df214"
   },
   "outputs": [],
   "source": []
  },
  {
   "cell_type": "code",
   "execution_count": null,
   "id": "0fed3820",
   "metadata": {
    "id": "0fed3820"
   },
   "outputs": [],
   "source": []
  },
  {
   "cell_type": "markdown",
   "id": "365ab9f9",
   "metadata": {
    "id": "365ab9f9"
   },
   "source": [
    "## Baseline Model"
   ]
  },
  {
   "cell_type": "markdown",
   "id": "955b700f",
   "metadata": {
    "id": "955b700f"
   },
   "source": [
    "Let's create a simple baseline model to evaluate our models. Here we will use a grouped average, average sales by each store and dept during a month."
   ]
  },
  {
   "cell_type": "code",
   "execution_count": null,
   "id": "9ebc5d73",
   "metadata": {
    "colab": {
     "base_uri": "https://localhost:8080/"
    },
    "executionInfo": {
     "elapsed": 637,
     "status": "ok",
     "timestamp": 1705986130062,
     "user": {
      "displayName": "ASAD AYUB",
      "userId": "01156840666497798230"
     },
     "user_tz": -300
    },
    "id": "9ebc5d73",
    "outputId": "a415b939-b2ae-4612-86d8-72ed4b4e619c"
   },
   "outputs": [],
   "source": [
    "train_preds_grouped_mean = merged_train_df.groupby(['Store','Dept','Month']).Weekly_Sales.transform('mean')\n",
    "model_eval(merged_train_df, merged_train_df.Weekly_Sales, train_preds_grouped_mean)"
   ]
  },
  {
   "cell_type": "markdown",
   "id": "430d1c1d",
   "metadata": {
    "id": "430d1c1d"
   },
   "source": [
    "Any model we train from now on should give us a better training score than the WMAE of 2120."
   ]
  },
  {
   "cell_type": "code",
   "execution_count": null,
   "id": "e041a502",
   "metadata": {
    "id": "e041a502"
   },
   "outputs": [],
   "source": []
  },
  {
   "cell_type": "code",
   "execution_count": null,
   "id": "690e0704",
   "metadata": {
    "id": "690e0704"
   },
   "outputs": [],
   "source": []
  },
  {
   "cell_type": "code",
   "execution_count": null,
   "id": "f8d9c392",
   "metadata": {
    "id": "f8d9c392"
   },
   "outputs": [],
   "source": []
  },
  {
   "cell_type": "code",
   "execution_count": null,
   "id": "fccf5a2c",
   "metadata": {
    "id": "fccf5a2c"
   },
   "outputs": [],
   "source": []
  }
 ],
 "metadata": {
  "colab": {
   "collapsed_sections": [
    "720fb838",
    "31ff92d4",
    "1c9186e1",
    "4bdf6a91"
   ],
   "provenance": []
  },
  "kernelspec": {
   "display_name": "Python 3 (ipykernel)",
   "language": "python",
   "name": "python3"
  },
  "language_info": {
   "codemirror_mode": {
    "name": "ipython",
    "version": 3
   },
   "file_extension": ".py",
   "mimetype": "text/x-python",
   "name": "python",
   "nbconvert_exporter": "python",
   "pygments_lexer": "ipython3",
   "version": "3.11.5"
  }
 },
 "nbformat": 4,
 "nbformat_minor": 5
}
